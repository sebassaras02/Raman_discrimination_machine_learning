{
  "nbformat": 4,
  "nbformat_minor": 0,
  "metadata": {
    "colab": {
      "provenance": []
    },
    "kernelspec": {
      "name": "python3",
      "display_name": "Python 3"
    },
    "language_info": {
      "name": "python"
    }
  },
  "cells": [
    {
      "cell_type": "markdown",
      "source": [
        "# ***Data Engineering Part***\n",
        "\n",
        "# Paper: **Discrimination of essential oils exposed and non-exposed to gamma rays using Raman spectroscopy and machine learning**\n",
        "\n",
        "### **Authors:** *Paul Vargas Jentzsch (a), Sebastián Sarasti Zambonino (a), Daniela Ramirez (a), Gonzalo Jácome Camacho (a), Marco Sinche Serra (a), Edwin Vera (b), Roque Santos(a), Luis Ramos Guerrero (c), Valerian Ciobotă (d)\n",
        "\n",
        "### **Notebook created by:** **Sebastián Sarasti Zambonino**\n",
        "\n",
        "### **Institutions:**\n",
        "a) Departamento de Ciencias Nucleares, Facultad de Ingeniería\n",
        "Química y Agroindustria, Escuela Politécnica Nacional,\n",
        "Ladrón de Guevara E11-253, 170525 Quito, Ecuador\n",
        "\n",
        "b) Departamento de Ciencias de Alimentos y Biotecnología, Facultad de Ingeniería\n",
        "Química y Agroindustria, Escuela Politécnica Nacional,\n",
        "Ladrón de Guevara E11-253, 170525 Quito, Ecuador\n",
        "\n",
        "c) Centro de Investigación de Alimentos, CIAL, Universidad UTE, \n",
        "Av. Mariscal Sucre y Mariana de Jesús, 170527 Quito, Ecuador\n",
        "\n",
        "d) Rigaku Analytical Devices, Inc.,\n",
        "30 Upton Drive, Suite 2\n",
        "01887 Wilmington, USA"
      ],
      "metadata": {
        "id": "TSJDjECzPiby"
      }
    },
    {
      "cell_type": "markdown",
      "source": [
        "## Important announcement\n",
        "\n",
        "This notebook serves as a guide throughout all the work done for the data engineering process. The goal of the notebook is to structure the Raman spectra recorded in files in a single dataframe. If you had any question, please, you should reach Sebastian Sarasti Zambonino out by his e-mail (sebastian.sarasti@epn.edu.ec). "
      ],
      "metadata": {
        "id": "UG6ryj0ascc6"
      }
    },
    {
      "cell_type": "markdown",
      "source": [
        "# Import libraries"
      ],
      "metadata": {
        "id": "lOIWrFqLPwzn"
      }
    },
    {
      "cell_type": "code",
      "execution_count": null,
      "metadata": {
        "id": "-GCmGttEGxWA"
      },
      "outputs": [],
      "source": [
        "import numpy as np\n",
        "import pandas as pd\n",
        "import matplotlib.pyplot as plt"
      ]
    },
    {
      "cell_type": "markdown",
      "source": [
        "Mount drive"
      ],
      "metadata": {
        "id": "TDt2-vh4Pzr8"
      }
    },
    {
      "cell_type": "code",
      "source": [
        "from google.colab import drive\n",
        "drive.mount('/content/drive')"
      ],
      "metadata": {
        "colab": {
          "base_uri": "https://localhost:8080/"
        },
        "id": "JBG4Gl_bG2Pp",
        "outputId": "9a4efe39-a505-47c5-b43e-98bfb5368447"
      },
      "execution_count": null,
      "outputs": [
        {
          "output_type": "stream",
          "name": "stdout",
          "text": [
            "Drive already mounted at /content/drive; to attempt to forcibly remount, call drive.mount(\"/content/drive\", force_remount=True).\n"
          ]
        }
      ]
    },
    {
      "cell_type": "markdown",
      "source": [
        "Load library to work with files"
      ],
      "metadata": {
        "id": "UapvTaJUP1wu"
      }
    },
    {
      "cell_type": "code",
      "source": [
        "import os\n",
        "import itertools"
      ],
      "metadata": {
        "id": "8vO6BkoV22Zl"
      },
      "execution_count": null,
      "outputs": []
    },
    {
      "cell_type": "markdown",
      "source": [
        "Load library to work with datetime objects"
      ],
      "metadata": {
        "id": "OUc1SiszQOpu"
      }
    },
    {
      "cell_type": "code",
      "source": [
        "import re\n",
        "from datetime import datetime"
      ],
      "metadata": {
        "id": "ZkudPA48VWTJ"
      },
      "execution_count": null,
      "outputs": []
    },
    {
      "cell_type": "markdown",
      "source": [
        "# Transformation part"
      ],
      "metadata": {
        "id": "i8VZ_INvP6kb"
      }
    },
    {
      "cell_type": "markdown",
      "source": [
        "1. Create a function to read all files inside the folder"
      ],
      "metadata": {
        "id": "q9yZU41C6qPA"
      }
    },
    {
      "cell_type": "code",
      "source": [
        "def get_txt_files(dir):\n",
        "  contenido_1 = os.listdir(dir)\n",
        "  contenido_2 = [i for i in contenido_1]\n",
        "  h = []\n",
        "  for i in contenido_1:\n",
        "    h1 = os.listdir(dir+'/'+i)\n",
        "    j1 = []\n",
        "    for j in h1:\n",
        "      j1.append(dir+'/'+i+'/'+j)\n",
        "    h.append(j1)\n",
        "  h = [j for i in h for j in i]\n",
        "  k = []\n",
        "  for i in h:\n",
        "    for filename in os.listdir(i):\n",
        "        if filename.endswith(\".txt\"):\n",
        "            k.append(i+'/'+filename)\n",
        "  return k"
      ],
      "metadata": {
        "id": "-mD3Tfq_DAWQ"
      },
      "execution_count": null,
      "outputs": []
    },
    {
      "cell_type": "markdown",
      "source": [
        "2. Create a function to get the datetime of the measurement"
      ],
      "metadata": {
        "id": "SWsaMBD3WPNG"
      }
    },
    {
      "cell_type": "code",
      "source": [
        "def get_date(directions):\n",
        "  dates = []\n",
        "  for i in directions:\n",
        "      matches = re.search(r\"RS(\\d+)_P\", i)\n",
        "      if matches:\n",
        "          rs_number = matches.group(1)\n",
        "          rs_number = datetime.strptime(rs_number, '%Y%m%d%H%M%S')\n",
        "          dates.append(rs_number)\n",
        "  return dates"
      ],
      "metadata": {
        "id": "8xFMKN2WU5Fj"
      },
      "execution_count": null,
      "outputs": []
    },
    {
      "cell_type": "markdown",
      "source": [
        "3. Create a function to read the txt files and get the useful data"
      ],
      "metadata": {
        "id": "TMFA0k-n4of4"
      }
    },
    {
      "cell_type": "code",
      "source": [
        "def read_data_raman(path):\n",
        "  with open(path, \"r\") as file:\n",
        "      lines = file.readlines()\n",
        "      a = []\n",
        "      for i, line in enumerate(lines):\n",
        "          if i >= 101:\n",
        "              # print(line)\n",
        "              a.append(line)\n",
        "\n",
        "  a = [i.replace('\\t', \" \") for i in a]\n",
        "  a = [i.strip('\\n') for i in a]\n",
        "  a = [i.rstrip() for i in a]\n",
        "  a = [i.split() for i in a]\n",
        "  a = [float(j) for i in a for j in i]\n",
        "  a = np.array(a)\n",
        "  a = np.reshape(a, (int(len(a)/5),5))\n",
        "  a = a[:,1:3]\n",
        "  return a"
      ],
      "metadata": {
        "id": "YjlqNSBZIRzp"
      },
      "execution_count": null,
      "outputs": []
    },
    {
      "cell_type": "markdown",
      "source": [
        "4. Create a function to get the dose"
      ],
      "metadata": {
        "id": "Sh4zi_NicehD"
      }
    },
    {
      "cell_type": "code",
      "source": [
        "def get_dosis(paths):\n",
        "  dosis = []\n",
        "  for i in paths:\n",
        "    a = i.split('/')\n",
        "    b = re.findall(r'\\d+', a[6])\n",
        "    if len(b) > 0:\n",
        "      dosis.append(float(b[0]))\n",
        "    else:\n",
        "      dosis.append(0)\n",
        "  return dosis"
      ],
      "metadata": {
        "id": "q5b7YoWiYurd"
      },
      "execution_count": null,
      "outputs": []
    },
    {
      "cell_type": "markdown",
      "source": [
        "5. Create a function to get the plant name"
      ],
      "metadata": {
        "id": "MmGn_NkaycKW"
      }
    },
    {
      "cell_type": "code",
      "source": [
        "def get_name(paths):\n",
        "  names = []\n",
        "  paths = [i.replace(\"Muña\", \"Muna\") for i in paths] \n",
        "  for i in paths:\n",
        "    if \"Muna\" in i:\n",
        "      names.append(\"Muna\")\n",
        "    elif \"Chilca\" in i:\n",
        "      names.append(\"Chilca\")\n",
        "    # else:\n",
        "    #   names.append(\"NA\")\n",
        "  return names"
      ],
      "metadata": {
        "id": "I5tv3Fbcye76"
      },
      "execution_count": null,
      "outputs": []
    },
    {
      "cell_type": "markdown",
      "source": [
        "6. Create a function to determine when the sample was irradiated"
      ],
      "metadata": {
        "id": "1bDOfoOAcwVC"
      }
    },
    {
      "cell_type": "code",
      "source": [
        "def get_irradiation_stage(paths):\n",
        "  stage = []\n",
        "  for i in paths:\n",
        "    a = i.split('/')\n",
        "    a = a[6]\n",
        "    if 'AI' in a:\n",
        "      stage.append(\"Oil\")\n",
        "    elif 'MI' in a:\n",
        "      stage.append(\"Sample\")\n",
        "    else:\n",
        "      stage.append('Not irradiated')\n",
        "  return stage"
      ],
      "metadata": {
        "id": "ySm6eAWcczpD"
      },
      "execution_count": null,
      "outputs": []
    },
    {
      "cell_type": "markdown",
      "source": [
        "7. Create a function to get the whole dataset directly. This function creates a DF which has a column for each Raman value, and other columns for other features such as dose, irradiation stage, or date."
      ],
      "metadata": {
        "id": "lU82XVok6DKS"
      }
    },
    {
      "cell_type": "code",
      "source": [
        "def dataset_raman(dir):\n",
        "  # get direction from data\n",
        "  at = get_txt_files(dir)\n",
        "  # verify which one was irradiated or not\n",
        "  labels = [0 if \"SinIrradiar\" in i else 1 for i in at]\n",
        "  # get the date\n",
        "  date = get_date(at)\n",
        "  # read the txt files\n",
        "  data = [read_data_raman(i) for i in at]\n",
        "  # reshape the files into matrix\n",
        "  features = [i.reshape(511*2, order = 'F') for i in data]\n",
        "  # get the dose of irradiation\n",
        "  dosis = get_dosis(at)\n",
        "  # get where the irradiation was carried out\n",
        "  irradiation_stages = get_irradiation_stage(at)\n",
        "  # create a list of the features\n",
        "  fea = ['F'+str(i+1) for i in range(1022)]\n",
        "  # create a DF\n",
        "  df = pd.DataFrame(data = features, columns = fea)\n",
        "  # define the columns of the DF\n",
        "  df['Dosis'] = dosis\n",
        "  df['Irradiation Stage'] = irradiation_stages\n",
        "  df['Irradiation'] = labels\n",
        "  df['Date'] = date\n",
        "  df['Plant'] = get_name(at)\n",
        "  return df"
      ],
      "metadata": {
        "id": "NgxVP5Bc6IHZ"
      },
      "execution_count": null,
      "outputs": []
    },
    {
      "cell_type": "markdown",
      "source": [
        "# Data Transformation"
      ],
      "metadata": {
        "id": "9-87F_iCQfxX"
      }
    },
    {
      "cell_type": "markdown",
      "source": [
        "Create the DF for the first measurements"
      ],
      "metadata": {
        "id": "_Ul9hYbzWsC7"
      }
    },
    {
      "cell_type": "code",
      "source": [
        "df = dataset_raman('/content/drive/MyDrive/#6 Aceites irradiados/Essential oils 1st part')"
      ],
      "metadata": {
        "id": "FiaYSX8dWuj3"
      },
      "execution_count": null,
      "outputs": []
    },
    {
      "cell_type": "markdown",
      "source": [
        "Create the DF for the second measurements"
      ],
      "metadata": {
        "id": "DlCqQPtL7q6r"
      }
    },
    {
      "cell_type": "code",
      "source": [
        "df_2 = dataset_raman('/content/drive/MyDrive/#6 Aceites irradiados/Essential oils 2nd part')"
      ],
      "metadata": {
        "id": "XtQUkCOT7ufb"
      },
      "execution_count": null,
      "outputs": []
    },
    {
      "cell_type": "markdown",
      "source": [
        "Third measurements"
      ],
      "metadata": {
        "id": "sSIy_jwA_gDB"
      }
    },
    {
      "cell_type": "code",
      "source": [
        "df_3 = dataset_raman('/content/drive/MyDrive/#6 Aceites irradiados/Essential oils 3rd part')"
      ],
      "metadata": {
        "id": "dnKfz1Rp8DuR"
      },
      "execution_count": null,
      "outputs": []
    },
    {
      "cell_type": "markdown",
      "source": [
        "Fourth measurements"
      ],
      "metadata": {
        "id": "Lpci8hdn_1OU"
      }
    },
    {
      "cell_type": "code",
      "source": [
        "df_4 = dataset_raman('/content/drive/MyDrive/#6 Aceites irradiados/Essential oils 4th part')"
      ],
      "metadata": {
        "id": "M0xwtSki_3oL"
      },
      "execution_count": null,
      "outputs": []
    },
    {
      "cell_type": "markdown",
      "source": [
        "Export results"
      ],
      "metadata": {
        "id": "l-Oi5pJ6EW0B"
      }
    },
    {
      "cell_type": "code",
      "source": [
        "df.to_csv('data_irradiation_1.csv')\n",
        "df_2.to_csv('data_irradiation_2.csv')\n",
        "df_3.to_csv('data_irradiation_3.csv')\n",
        "df_4.to_csv('data_irradiation_4.csv')"
      ],
      "metadata": {
        "id": "TQSkDxMcEYd3"
      },
      "execution_count": null,
      "outputs": []
    },
    {
      "cell_type": "markdown",
      "source": [
        "The final results all are concatenated in a unique DF."
      ],
      "metadata": {
        "id": "_IeckJU3QvFi"
      }
    },
    {
      "cell_type": "code",
      "source": [
        "df_final = pd.concat([df, df_2, df_3, df_4], axis = 0)"
      ],
      "metadata": {
        "id": "WZAP-Sh94Y8A"
      },
      "execution_count": null,
      "outputs": []
    },
    {
      "cell_type": "code",
      "source": [
        "df_final.to_csv('data_final.csv')"
      ],
      "metadata": {
        "id": "6JBq6hOwQ1TO"
      },
      "execution_count": null,
      "outputs": []
    }
  ]
}