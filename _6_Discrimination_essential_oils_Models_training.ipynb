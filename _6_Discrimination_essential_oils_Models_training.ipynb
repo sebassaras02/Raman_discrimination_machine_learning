{
  "nbformat": 4,
  "nbformat_minor": 0,
  "metadata": {
    "colab": {
      "provenance": []
    },
    "kernelspec": {
      "name": "python3",
      "display_name": "Python 3"
    },
    "language_info": {
      "name": "python"
    }
  },
  "cells": [
    {
      "cell_type": "markdown",
      "source": [
        "# ***Data Analysis and Models Creation***\n",
        "\n",
        "# Paper: **Discrimination of essential oils exposed and non-exposed to gamma rays using Raman spectroscopy and machine learning**\n",
        "\n",
        "### **Authors:** *Paul Vargas Jentzsch (a), Sebastián Sarasti Zambonino (a), Daniela Ramirez (a), Gonzalo Jácome Camacho (a), Marco Sinche Serra (a), Edwin Vera (b), Roque Santos(a), Luis Ramos Guerrero (c), Valerian Ciobotă (d)\n",
        "\n",
        "### **Notebook created by:** **Sebastián Sarasti Zambonino**\n",
        "\n",
        "### **Institutions:**\n",
        "a) Departamento de Ciencias Nucleares, Facultad de Ingeniería\n",
        "Química y Agroindustria, Escuela Politécnica Nacional,\n",
        "Ladrón de Guevara E11-253, 170525 Quito, Ecuador\n",
        "\n",
        "b) Departamento de Ciencias de Alimentos y Biotecnología, Facultad de Ingeniería\n",
        "Química y Agroindustria, Escuela Politécnica Nacional,\n",
        "Ladrón de Guevara E11-253, 170525 Quito, Ecuador\n",
        "\n",
        "c) Centro de Investigación de Alimentos, CIAL, Universidad UTE, \n",
        "Av. Mariscal Sucre y Mariana de Jesús, 170527 Quito, Ecuador\n",
        "\n",
        "d) Rigaku Analytical Devices, Inc.,\n",
        "30 Upton Drive, Suite 2\n",
        "01887 Wilmington, USA"
      ],
      "metadata": {
        "id": "b9eqTC3bzToV"
      }
    },
    {
      "cell_type": "markdown",
      "source": [
        "## Important announcement\n",
        "\n",
        "This notebook serves as a guide throughout all the work done for the data analysis and model creation. Running the notebook is expensive, be careful with that. If you had any question, please, you should reach Sebastian Sarasti Zambonino out by his e-mail (sebastian.sarasti@epn.edu.ec). "
      ],
      "metadata": {
        "id": "I_vCaPxMqmhS"
      }
    },
    {
      "cell_type": "markdown",
      "source": [
        "## Data Processing"
      ],
      "metadata": {
        "id": "Ybl-jJMrz4Pe"
      }
    },
    {
      "cell_type": "markdown",
      "source": [
        "Import basic libraries"
      ],
      "metadata": {
        "id": "kHGj6YxzzYRU"
      }
    },
    {
      "cell_type": "code",
      "execution_count": null,
      "metadata": {
        "id": "fbmXB9sJYbHP",
        "cellView": "form"
      },
      "outputs": [],
      "source": [
        "#@title\n",
        "import numpy as np\n",
        "import pandas as pd\n",
        "import matplotlib.pyplot as plt\n",
        "import seaborn as sns"
      ]
    },
    {
      "cell_type": "markdown",
      "source": [
        "Mount drive and load data"
      ],
      "metadata": {
        "id": "IOyeWULczbGa"
      }
    },
    {
      "cell_type": "code",
      "source": [
        "#@title\n",
        "from google.colab import drive\n",
        "drive.mount('/content/drive')"
      ],
      "metadata": {
        "colab": {
          "base_uri": "https://localhost:8080/"
        },
        "id": "xXyqr6n2Y15X",
        "outputId": "f034e648-476f-4deb-9bf6-b53586925e3e",
        "cellView": "form"
      },
      "execution_count": null,
      "outputs": [
        {
          "output_type": "stream",
          "name": "stdout",
          "text": [
            "Mounted at /content/drive\n"
          ]
        }
      ]
    },
    {
      "cell_type": "code",
      "source": [
        "#@title\n",
        "df1 = pd.read_csv('/content/drive/MyDrive/#6 Aceites irradiados/Data structured/data_irradiation_1.csv', index_col = 0)\n",
        "df2 = pd.read_csv('/content/drive/MyDrive/#6 Aceites irradiados/Data structured/data_irradiation_2.csv', index_col = 0)\n",
        "df3 = pd.read_csv('/content/drive/MyDrive/#6 Aceites irradiados/Data structured/data_irradiation_3.csv', index_col = 0)\n",
        "df4 = pd.read_csv('/content/drive/MyDrive/#6 Aceites irradiados/Data structured/data_irradiation_4.csv', index_col = 0)"
      ],
      "metadata": {
        "id": "eITtSIQeY3dm",
        "cellView": "form"
      },
      "execution_count": null,
      "outputs": []
    },
    {
      "cell_type": "markdown",
      "source": [
        "Concat the dataframes to have only one"
      ],
      "metadata": {
        "id": "DPVQlrmkze8Y"
      }
    },
    {
      "cell_type": "code",
      "source": [
        "#@title\n",
        "df_final = pd.concat([df1, df2, df3, df4])"
      ],
      "metadata": {
        "id": "aWdQM_ZVY-rU",
        "cellView": "form"
      },
      "execution_count": null,
      "outputs": []
    },
    {
      "cell_type": "code",
      "source": [
        "#@title\n",
        "df_final.Date = pd.to_datetime(df_final.Date)"
      ],
      "metadata": {
        "id": "-k2Ky3l8aK5b",
        "cellView": "form"
      },
      "execution_count": null,
      "outputs": []
    },
    {
      "cell_type": "markdown",
      "source": [
        "Get the 70 percent of the DF for training the rest for test"
      ],
      "metadata": {
        "id": "iIJ5d0g7YNWV"
      }
    },
    {
      "cell_type": "code",
      "source": [
        "#@title\n",
        "from sklearn.model_selection import train_test_split"
      ],
      "metadata": {
        "id": "GzKQ8srBYkCR",
        "cellView": "form"
      },
      "execution_count": null,
      "outputs": []
    },
    {
      "cell_type": "code",
      "source": [
        "#@title\n",
        "train, test =  train_test_split(df_final, test_size = 0.3, random_state = 99)"
      ],
      "metadata": {
        "id": "rPeqfV4kYMG4",
        "cellView": "form"
      },
      "execution_count": null,
      "outputs": []
    },
    {
      "cell_type": "code",
      "source": [
        "#@title\n",
        "test.to_csv('test_data.csv')"
      ],
      "metadata": {
        "id": "XyYOrr70YzXJ",
        "cellView": "form"
      },
      "execution_count": null,
      "outputs": []
    },
    {
      "cell_type": "markdown",
      "source": [
        "Execute the same with the train over df_final"
      ],
      "metadata": {
        "id": "___ARZmYZDcN"
      }
    },
    {
      "cell_type": "code",
      "source": [
        "#@title\n",
        "df_final = train"
      ],
      "metadata": {
        "id": "euXD3Xn0ZFux",
        "cellView": "form"
      },
      "execution_count": null,
      "outputs": []
    },
    {
      "cell_type": "markdown",
      "source": [
        "## Simple Exploratory Data Analysis"
      ],
      "metadata": {
        "id": "RGSjhU3n0G1t"
      }
    },
    {
      "cell_type": "markdown",
      "source": [
        "Verify when data was collected"
      ],
      "metadata": {
        "id": "zKqyXzcUb1tX"
      }
    },
    {
      "cell_type": "code",
      "source": [
        "#@title\n",
        "days = df_final.groupby(by=[df_final['Date'].dt.month, df_final['Date'].dt.year]).count()['Date']"
      ],
      "metadata": {
        "id": "lmxSw0c3ZFqM",
        "cellView": "form"
      },
      "execution_count": null,
      "outputs": []
    },
    {
      "cell_type": "code",
      "source": [
        "#@title\n",
        "days.plot(kind='bar')"
      ],
      "metadata": {
        "colab": {
          "base_uri": "https://localhost:8080/",
          "height": 338
        },
        "id": "1FtBUni-bROK",
        "outputId": "d5c13c3e-3fea-48b4-d1a1-9ef7f73f5934",
        "cellView": "form"
      },
      "execution_count": null,
      "outputs": [
        {
          "output_type": "execute_result",
          "data": {
            "text/plain": [
              "<AxesSubplot:xlabel='Date,Date'>"
            ]
          },
          "metadata": {},
          "execution_count": 19
        },
        {
          "output_type": "display_data",
          "data": {
            "text/plain": [
              "<Figure size 432x288 with 1 Axes>"
            ],
            "image/png": "[encoded data removed]"
          },
          "metadata": {
            "needs_background": "light"
          }
        }
      ]
    },
    {
      "cell_type": "markdown",
      "source": [
        "Verify duplicated values along the DF for the X axis"
      ],
      "metadata": {
        "id": "jIA6doZ1cykT"
      }
    },
    {
      "cell_type": "code",
      "source": [
        "#@title\n",
        "df_final.iloc[:, :511].duplicated().sum()"
      ],
      "metadata": {
        "colab": {
          "base_uri": "https://localhost:8080/"
        },
        "id": "EsxaHehLc2Go",
        "outputId": "129a3b27-501c-4ee2-c9d3-862ebb9fd1e5",
        "cellView": "form"
      },
      "execution_count": null,
      "outputs": [
        {
          "output_type": "execute_result",
          "data": {
            "text/plain": [
              "717"
            ]
          },
          "metadata": {},
          "execution_count": 20
        }
      ]
    },
    {
      "cell_type": "markdown",
      "source": [
        "##  Machine Learning Modeling Test\n",
        "\n",
        "In this part, it was built several machine learning algoritms to prove how each approach gives the best result"
      ],
      "metadata": {
        "id": "cSxD9JWE0SuL"
      }
    },
    {
      "cell_type": "markdown",
      "source": [
        "### Create a model with the all dataset columns"
      ],
      "metadata": {
        "id": "vvzHYL1M0W0m"
      }
    },
    {
      "cell_type": "markdown",
      "source": [
        "**1. Dose calculation**"
      ],
      "metadata": {
        "id": "Mdd7MQQN1dj-"
      }
    },
    {
      "cell_type": "markdown",
      "source": [
        "Extract data which all columns"
      ],
      "metadata": {
        "id": "xT60bJOifdF6"
      }
    },
    {
      "cell_type": "code",
      "source": [
        "X = df_final.iloc[:, :1022]\n",
        "Y = df_final.loc[:, 'Dosis']"
      ],
      "metadata": {
        "id": "QzltXfhZfm6U"
      },
      "execution_count": null,
      "outputs": []
    },
    {
      "cell_type": "code",
      "source": [
        "#@title\n",
        "from sklearn.model_selection import cross_val_predict\n",
        "from sklearn.metrics import classification_report\n",
        "from sklearn.ensemble import RandomForestClassifier"
      ],
      "metadata": {
        "id": "Mcu7FUha0oJ6",
        "cellView": "form"
      },
      "execution_count": null,
      "outputs": []
    },
    {
      "cell_type": "code",
      "source": [
        "#@title\n",
        "# create a simple model\n",
        "model = RandomForestClassifier()"
      ],
      "metadata": {
        "id": "VdehuUMc0sD2",
        "cellView": "form"
      },
      "execution_count": null,
      "outputs": []
    },
    {
      "cell_type": "code",
      "source": [
        "#@title\n",
        "# Make a cross validation for 5 folds\n",
        "y_pred = cross_val_predict(model, X, Y, cv=5)"
      ],
      "metadata": {
        "id": "rkboYC750oJ7",
        "cellView": "form"
      },
      "execution_count": null,
      "outputs": []
    },
    {
      "cell_type": "code",
      "source": [
        "#@title\n",
        "# Make the report\n",
        "report = classification_report(Y, y_pred)\n",
        "print(report)"
      ],
      "metadata": {
        "colab": {
          "base_uri": "https://localhost:8080/"
        },
        "id": "f6VP0nwF0d3-",
        "outputId": "35701a93-398b-41fc-ea61-a5f3d0e1ba83",
        "cellView": "form"
      },
      "execution_count": null,
      "outputs": [
        {
          "output_type": "stream",
          "name": "stdout",
          "text": [
            "              precision    recall  f1-score   support\n",
            "\n",
            "         0.0       1.00      0.94      0.97       145\n",
            "        10.0       0.82      0.91      0.86       213\n",
            "        15.0       0.86      0.78      0.82       164\n",
            "        20.0       0.90      0.92      0.91       201\n",
            "\n",
            "    accuracy                           0.89       723\n",
            "   macro avg       0.90      0.89      0.89       723\n",
            "weighted avg       0.89      0.89      0.89       723\n",
            "\n"
          ]
        }
      ]
    },
    {
      "cell_type": "markdown",
      "source": [
        "**2. Irradiation Stage Calculation**"
      ],
      "metadata": {
        "id": "g0k8CK-I1kG3"
      }
    },
    {
      "cell_type": "markdown",
      "source": [
        "Extract data which all columns"
      ],
      "metadata": {
        "id": "v7N8Ax0D1kG3"
      }
    },
    {
      "cell_type": "code",
      "source": [
        "X = df_final.iloc[:, :1022]\n",
        "Y = df_final.loc[:, 'Irradiation Stage']"
      ],
      "metadata": {
        "id": "ub5UyoPH1kG3"
      },
      "execution_count": null,
      "outputs": []
    },
    {
      "cell_type": "code",
      "source": [
        "#@title\n",
        "# create a simple model\n",
        "model = RandomForestClassifier()"
      ],
      "metadata": {
        "id": "R04wL1ne1kG4",
        "cellView": "form"
      },
      "execution_count": null,
      "outputs": []
    },
    {
      "cell_type": "code",
      "source": [
        "#@title\n",
        "# Make a cross validation for 5 folds\n",
        "y_pred = cross_val_predict(model, X, Y, cv=5)"
      ],
      "metadata": {
        "id": "S6hG0aT01kG4",
        "cellView": "form"
      },
      "execution_count": null,
      "outputs": []
    },
    {
      "cell_type": "code",
      "source": [
        "#@title\n",
        "# Make the report\n",
        "report = classification_report(Y, y_pred)\n",
        "print(report)"
      ],
      "metadata": {
        "colab": {
          "base_uri": "https://localhost:8080/"
        },
        "outputId": "8d82ec06-1268-42b7-e87a-cf8ca7cf148a",
        "id": "EQoXRG5g1kG4",
        "cellView": "form"
      },
      "execution_count": null,
      "outputs": [
        {
          "output_type": "stream",
          "name": "stdout",
          "text": [
            "                precision    recall  f1-score   support\n",
            "\n",
            "Not irradiated       0.99      0.92      0.95       145\n",
            "           Oil       0.99      0.96      0.98       253\n",
            "        Sample       0.94      0.99      0.96       325\n",
            "\n",
            "      accuracy                           0.96       723\n",
            "     macro avg       0.97      0.96      0.96       723\n",
            "  weighted avg       0.97      0.96      0.96       723\n",
            "\n"
          ]
        }
      ]
    },
    {
      "cell_type": "markdown",
      "source": [
        "**3. Only Irradiation Calculation**"
      ],
      "metadata": {
        "id": "5vYopYsA1tan"
      }
    },
    {
      "cell_type": "markdown",
      "source": [
        "Extract data which all columns"
      ],
      "metadata": {
        "id": "AfVa8dJX1tao"
      }
    },
    {
      "cell_type": "code",
      "source": [
        "X = df_final.iloc[:, :1022]\n",
        "Y = df_final.loc[:, 'Irradiation']"
      ],
      "metadata": {
        "id": "_niXEg5M1tao"
      },
      "execution_count": null,
      "outputs": []
    },
    {
      "cell_type": "code",
      "source": [
        "#@title\n",
        "# create a simple model\n",
        "model = RandomForestClassifier()"
      ],
      "metadata": {
        "id": "WfFnAZqm1tap",
        "cellView": "form"
      },
      "execution_count": null,
      "outputs": []
    },
    {
      "cell_type": "code",
      "source": [
        "#@title\n",
        "# Make a cross validation for 5 folds\n",
        "y_pred = cross_val_predict(model, X, Y, cv=5)"
      ],
      "metadata": {
        "id": "HUEM3tT21tap",
        "cellView": "form"
      },
      "execution_count": null,
      "outputs": []
    },
    {
      "cell_type": "code",
      "source": [
        "#@title\n",
        "# Make the report\n",
        "report = classification_report(Y, y_pred)\n",
        "print(report)"
      ],
      "metadata": {
        "colab": {
          "base_uri": "https://localhost:8080/"
        },
        "id": "sLZj2Y5x1taq",
        "outputId": "d56a5198-fe90-4ea4-99fb-f9d0010f2380",
        "cellView": "form"
      },
      "execution_count": null,
      "outputs": [
        {
          "output_type": "stream",
          "name": "stdout",
          "text": [
            "              precision    recall  f1-score   support\n",
            "\n",
            "           0       0.99      0.92      0.95       145\n",
            "           1       0.98      1.00      0.99       578\n",
            "\n",
            "    accuracy                           0.98       723\n",
            "   macro avg       0.99      0.96      0.97       723\n",
            "weighted avg       0.98      0.98      0.98       723\n",
            "\n"
          ]
        }
      ]
    },
    {
      "cell_type": "markdown",
      "source": [
        "### Create a model with the only Raman columns"
      ],
      "metadata": {
        "id": "nfEMI6bq1_LP"
      }
    },
    {
      "cell_type": "markdown",
      "source": [
        "**1. Dose calculation**"
      ],
      "metadata": {
        "id": "Wkb8ho_51_LW"
      }
    },
    {
      "cell_type": "markdown",
      "source": [
        "Extract data which all columns"
      ],
      "metadata": {
        "id": "OFnuJGRn1_LW"
      }
    },
    {
      "cell_type": "code",
      "source": [
        "X = df_final.iloc[:, 511:1022]\n",
        "Y = df_final.loc[:, 'Dosis']"
      ],
      "metadata": {
        "id": "79_a1r5K1_LW"
      },
      "execution_count": null,
      "outputs": []
    },
    {
      "cell_type": "code",
      "source": [
        "#@title\n",
        "from sklearn.model_selection import cross_val_predict\n",
        "from sklearn.metrics import classification_report\n",
        "from sklearn.ensemble import RandomForestClassifier"
      ],
      "metadata": {
        "id": "zVLeAqPu1_LX",
        "cellView": "form"
      },
      "execution_count": null,
      "outputs": []
    },
    {
      "cell_type": "code",
      "source": [
        "#@title\n",
        "# create a simple model\n",
        "model = RandomForestClassifier()"
      ],
      "metadata": {
        "id": "0AV-L5ha1_LX",
        "cellView": "form"
      },
      "execution_count": null,
      "outputs": []
    },
    {
      "cell_type": "code",
      "source": [
        "#@title\n",
        "# Make a cross validation for 5 folds\n",
        "y_pred = cross_val_predict(model, X, Y, cv=5)"
      ],
      "metadata": {
        "id": "vV0_X3R21_LX",
        "cellView": "form"
      },
      "execution_count": null,
      "outputs": []
    },
    {
      "cell_type": "code",
      "source": [
        "#@title\n",
        "# Make the report\n",
        "report = classification_report(Y, y_pred)\n",
        "print(report)"
      ],
      "metadata": {
        "colab": {
          "base_uri": "https://localhost:8080/"
        },
        "outputId": "b81fbea2-b45e-4df8-9c8c-148ba7a8db6a",
        "id": "35_vUypT1_LX",
        "cellView": "form"
      },
      "execution_count": null,
      "outputs": [
        {
          "output_type": "stream",
          "name": "stdout",
          "text": [
            "              precision    recall  f1-score   support\n",
            "\n",
            "         0.0       0.96      0.92      0.94       145\n",
            "        10.0       0.78      0.91      0.84       213\n",
            "        15.0       0.84      0.69      0.76       164\n",
            "        20.0       0.85      0.86      0.85       201\n",
            "\n",
            "    accuracy                           0.85       723\n",
            "   macro avg       0.86      0.84      0.85       723\n",
            "weighted avg       0.85      0.85      0.85       723\n",
            "\n"
          ]
        }
      ]
    },
    {
      "cell_type": "markdown",
      "source": [
        "**2. Irradiation Stage Calculation**"
      ],
      "metadata": {
        "id": "tzjz_NDE1_LX"
      }
    },
    {
      "cell_type": "markdown",
      "source": [
        "Extract data which all columns"
      ],
      "metadata": {
        "id": "O6HZFXYM1_LX"
      }
    },
    {
      "cell_type": "code",
      "source": [
        "X = df_final.iloc[:, 511:1022]\n",
        "Y = df_final.loc[:, 'Irradiation Stage']"
      ],
      "metadata": {
        "id": "orsg4kSc1_LX"
      },
      "execution_count": null,
      "outputs": []
    },
    {
      "cell_type": "code",
      "source": [
        "#@title\n",
        "# create a simple model\n",
        "model = RandomForestClassifier()"
      ],
      "metadata": {
        "id": "PrYgzMv_1_LY",
        "cellView": "form"
      },
      "execution_count": null,
      "outputs": []
    },
    {
      "cell_type": "code",
      "source": [
        "#@title\n",
        "# Make a cross validation for 5 folds\n",
        "y_pred = cross_val_predict(model, X, Y, cv=5)"
      ],
      "metadata": {
        "id": "hMNayZRT1_LY",
        "cellView": "form"
      },
      "execution_count": null,
      "outputs": []
    },
    {
      "cell_type": "code",
      "source": [
        "#@title\n",
        "# Make the report\n",
        "report = classification_report(Y, y_pred)\n",
        "print(report)"
      ],
      "metadata": {
        "colab": {
          "base_uri": "https://localhost:8080/"
        },
        "outputId": "7647c8fd-dd58-462d-a546-e16fef7f7e5a",
        "id": "X7bFbRdV1_LY",
        "cellView": "form"
      },
      "execution_count": null,
      "outputs": [
        {
          "output_type": "stream",
          "name": "stdout",
          "text": [
            "                precision    recall  f1-score   support\n",
            "\n",
            "Not irradiated       0.96      0.93      0.95       145\n",
            "           Oil       0.99      0.97      0.98       253\n",
            "        Sample       0.95      0.98      0.96       325\n",
            "\n",
            "      accuracy                           0.97       723\n",
            "     macro avg       0.97      0.96      0.96       723\n",
            "  weighted avg       0.97      0.97      0.97       723\n",
            "\n"
          ]
        }
      ]
    },
    {
      "cell_type": "markdown",
      "source": [
        "**3. Only Irradiation Calculation**"
      ],
      "metadata": {
        "id": "sdDaKbxI1_LY"
      }
    },
    {
      "cell_type": "markdown",
      "source": [
        "Extract data which all columns"
      ],
      "metadata": {
        "id": "5WVpkgkn1_LY"
      }
    },
    {
      "cell_type": "code",
      "source": [
        "X = df_final.iloc[:, 511:1022]\n",
        "Y = df_final.loc[:, 'Irradiation']"
      ],
      "metadata": {
        "id": "neZj2hAj1_LY"
      },
      "execution_count": null,
      "outputs": []
    },
    {
      "cell_type": "code",
      "source": [
        "#@title\n",
        "# create a simple model\n",
        "model = RandomForestClassifier()"
      ],
      "metadata": {
        "id": "0iU2ysBL1_LY",
        "cellView": "form"
      },
      "execution_count": null,
      "outputs": []
    },
    {
      "cell_type": "code",
      "source": [
        "#@title\n",
        "# Make a cross validation for 5 folds\n",
        "y_pred = cross_val_predict(model, X, Y, cv=5)"
      ],
      "metadata": {
        "id": "51NjSXuU1_LY",
        "cellView": "form"
      },
      "execution_count": null,
      "outputs": []
    },
    {
      "cell_type": "code",
      "source": [
        "#@title\n",
        "# Make the report\n",
        "report = classification_report(Y, y_pred)\n",
        "print(report)"
      ],
      "metadata": {
        "colab": {
          "base_uri": "https://localhost:8080/"
        },
        "outputId": "1ee1814e-95a7-4142-a2b3-592fb8a80797",
        "id": "FiSNuSOP1_LZ",
        "cellView": "form"
      },
      "execution_count": null,
      "outputs": [
        {
          "output_type": "stream",
          "name": "stdout",
          "text": [
            "              precision    recall  f1-score   support\n",
            "\n",
            "           0       0.97      0.90      0.94       145\n",
            "           1       0.98      0.99      0.98       578\n",
            "\n",
            "    accuracy                           0.98       723\n",
            "   macro avg       0.97      0.95      0.96       723\n",
            "weighted avg       0.98      0.98      0.97       723\n",
            "\n"
          ]
        }
      ]
    },
    {
      "cell_type": "markdown",
      "source": [
        "### Create a model with the all columns and a MinMax Scaler"
      ],
      "metadata": {
        "id": "j1skiEI13R2t"
      }
    },
    {
      "cell_type": "markdown",
      "source": [
        "**1. Dose calculation**"
      ],
      "metadata": {
        "id": "uB36LaU83R2u"
      }
    },
    {
      "cell_type": "markdown",
      "source": [
        "Extract data which all columns"
      ],
      "metadata": {
        "id": "kBv3uHBv3R2v"
      }
    },
    {
      "cell_type": "code",
      "source": [
        "X = df_final.iloc[:, :1022]\n",
        "Y = df_final.loc[:, 'Dosis']"
      ],
      "metadata": {
        "id": "5kst8mC63R2v"
      },
      "execution_count": null,
      "outputs": []
    },
    {
      "cell_type": "code",
      "source": [
        "#@title\n",
        "from sklearn.preprocessing import MinMaxScaler"
      ],
      "metadata": {
        "id": "wMDe5nW23Y9D",
        "cellView": "form"
      },
      "execution_count": null,
      "outputs": []
    },
    {
      "cell_type": "code",
      "source": [
        "#@title\n",
        "scaler = MinMaxScaler()"
      ],
      "metadata": {
        "id": "TWEWvUR83jFF",
        "cellView": "form"
      },
      "execution_count": null,
      "outputs": []
    },
    {
      "cell_type": "code",
      "source": [
        "#@title\n",
        "X = scaler.fit_transform(X)"
      ],
      "metadata": {
        "id": "oM0h_Miq3R2w",
        "cellView": "form"
      },
      "execution_count": null,
      "outputs": []
    },
    {
      "cell_type": "code",
      "source": [
        "#@title\n",
        "# create a simple model\n",
        "model = RandomForestClassifier()"
      ],
      "metadata": {
        "id": "U2uQxTW_3R2w",
        "cellView": "form"
      },
      "execution_count": null,
      "outputs": []
    },
    {
      "cell_type": "code",
      "source": [
        "#@title\n",
        "# Make a cross validation for 5 folds\n",
        "y_pred = cross_val_predict(model, X, Y, cv=5)"
      ],
      "metadata": {
        "id": "q0nYtgRa3R2x",
        "cellView": "form"
      },
      "execution_count": null,
      "outputs": []
    },
    {
      "cell_type": "code",
      "source": [
        "#@title\n",
        "# Make the report\n",
        "report = classification_report(Y, y_pred)\n",
        "print(report)"
      ],
      "metadata": {
        "colab": {
          "base_uri": "https://localhost:8080/"
        },
        "outputId": "08a7d978-1ced-4390-bfa3-7c88c1156d93",
        "id": "aaob9oUw3R2x",
        "cellView": "form"
      },
      "execution_count": null,
      "outputs": [
        {
          "output_type": "stream",
          "name": "stdout",
          "text": [
            "              precision    recall  f1-score   support\n",
            "\n",
            "         0.0       0.99      0.94      0.97       145\n",
            "        10.0       0.82      0.92      0.87       213\n",
            "        15.0       0.86      0.74      0.79       164\n",
            "        20.0       0.91      0.93      0.92       201\n",
            "\n",
            "    accuracy                           0.89       723\n",
            "   macro avg       0.89      0.88      0.89       723\n",
            "weighted avg       0.89      0.89      0.88       723\n",
            "\n"
          ]
        }
      ]
    },
    {
      "cell_type": "markdown",
      "source": [
        "**2. Irradiation Stage Calculation**"
      ],
      "metadata": {
        "id": "5TPBR7Da3R2x"
      }
    },
    {
      "cell_type": "markdown",
      "source": [
        "Extract data which all columns"
      ],
      "metadata": {
        "id": "L6_x1YVz3R2x"
      }
    },
    {
      "cell_type": "code",
      "source": [
        "X = df_final.iloc[:, :1022]\n",
        "Y = df_final.loc[:, 'Irradiation Stage']"
      ],
      "metadata": {
        "id": "3ZIB1fhN3R2y"
      },
      "execution_count": null,
      "outputs": []
    },
    {
      "cell_type": "code",
      "source": [
        "#@title\n",
        "scaler = MinMaxScaler()"
      ],
      "metadata": {
        "id": "3TRJgOWq34fr",
        "cellView": "form"
      },
      "execution_count": null,
      "outputs": []
    },
    {
      "cell_type": "code",
      "source": [
        "#@title\n",
        "X = scaler.fit_transform(X)"
      ],
      "metadata": {
        "id": "22oJNAjj34fr",
        "cellView": "form"
      },
      "execution_count": null,
      "outputs": []
    },
    {
      "cell_type": "code",
      "source": [
        "#@title\n",
        "# create a simple model\n",
        "model = RandomForestClassifier()"
      ],
      "metadata": {
        "id": "bwnntU2H3R2y",
        "cellView": "form"
      },
      "execution_count": null,
      "outputs": []
    },
    {
      "cell_type": "code",
      "source": [
        "#@title\n",
        "# Make a cross validation for 5 folds\n",
        "y_pred = cross_val_predict(model, X, Y, cv=5)"
      ],
      "metadata": {
        "id": "EFo6IJjd3R2y",
        "cellView": "form"
      },
      "execution_count": null,
      "outputs": []
    },
    {
      "cell_type": "code",
      "source": [
        "#@title\n",
        "# Make the report\n",
        "report = classification_report(Y, y_pred)\n",
        "print(report)"
      ],
      "metadata": {
        "colab": {
          "base_uri": "https://localhost:8080/"
        },
        "outputId": "a8726afd-2532-47f3-d2ec-85aff787d371",
        "id": "KfJY4Nta3R2y",
        "cellView": "form"
      },
      "execution_count": null,
      "outputs": [
        {
          "output_type": "stream",
          "name": "stdout",
          "text": [
            "                precision    recall  f1-score   support\n",
            "\n",
            "Not irradiated       1.00      0.92      0.96       145\n",
            "           Oil       0.99      0.96      0.98       253\n",
            "        Sample       0.94      0.99      0.97       325\n",
            "\n",
            "      accuracy                           0.97       723\n",
            "     macro avg       0.98      0.96      0.97       723\n",
            "  weighted avg       0.97      0.97      0.97       723\n",
            "\n"
          ]
        }
      ]
    },
    {
      "cell_type": "markdown",
      "source": [
        "**3. Only Irradiation Calculation**"
      ],
      "metadata": {
        "id": "NI6CGtR63R2z"
      }
    },
    {
      "cell_type": "markdown",
      "source": [
        "Extract data which all columns"
      ],
      "metadata": {
        "id": "sZXYQSjl3R2z"
      }
    },
    {
      "cell_type": "code",
      "source": [
        "X = df_final.iloc[:, :1022]\n",
        "Y = df_final.loc[:, 'Irradiation']"
      ],
      "metadata": {
        "id": "Ll3VxFQe3R2z"
      },
      "execution_count": null,
      "outputs": []
    },
    {
      "cell_type": "code",
      "source": [
        "#@title\n",
        "scaler = MinMaxScaler()"
      ],
      "metadata": {
        "id": "mZpyFhwf4A6Z",
        "cellView": "form"
      },
      "execution_count": null,
      "outputs": []
    },
    {
      "cell_type": "code",
      "source": [
        "#@title\n",
        "X = scaler.fit_transform(X)"
      ],
      "metadata": {
        "id": "j37nmIq-4A6Z",
        "cellView": "form"
      },
      "execution_count": null,
      "outputs": []
    },
    {
      "cell_type": "code",
      "source": [
        "#@title\n",
        "# create a simple model\n",
        "model = RandomForestClassifier()"
      ],
      "metadata": {
        "id": "Wv6eppjj3R2z",
        "cellView": "form"
      },
      "execution_count": null,
      "outputs": []
    },
    {
      "cell_type": "code",
      "source": [
        "#@title\n",
        "# Make a cross validation for 5 folds\n",
        "y_pred = cross_val_predict(model, X, Y, cv=5)"
      ],
      "metadata": {
        "id": "XOertF573R20",
        "cellView": "form"
      },
      "execution_count": null,
      "outputs": []
    },
    {
      "cell_type": "code",
      "source": [
        "#@title\n",
        "# Make the report\n",
        "report = classification_report(Y, y_pred)\n",
        "print(report)"
      ],
      "metadata": {
        "colab": {
          "base_uri": "https://localhost:8080/"
        },
        "outputId": "7274eb05-e41d-4dbc-e69d-4ef8427a456d",
        "id": "n7O82x2U3R20",
        "cellView": "form"
      },
      "execution_count": null,
      "outputs": [
        {
          "output_type": "stream",
          "name": "stdout",
          "text": [
            "              precision    recall  f1-score   support\n",
            "\n",
            "           0       0.99      0.93      0.96       145\n",
            "           1       0.98      1.00      0.99       578\n",
            "\n",
            "    accuracy                           0.98       723\n",
            "   macro avg       0.98      0.96      0.97       723\n",
            "weighted avg       0.98      0.98      0.98       723\n",
            "\n"
          ]
        }
      ]
    },
    {
      "cell_type": "markdown",
      "source": [
        "### Create a model with only Raman columns and a MinMax Scaler"
      ],
      "metadata": {
        "id": "SQDJdbED4MWZ"
      }
    },
    {
      "cell_type": "markdown",
      "source": [
        "**1. Dose calculation**"
      ],
      "metadata": {
        "id": "40eihg6f4MWa"
      }
    },
    {
      "cell_type": "markdown",
      "source": [
        "Extract data which all columns"
      ],
      "metadata": {
        "id": "yUmffI4m4MWa"
      }
    },
    {
      "cell_type": "code",
      "source": [
        "X = df_final.iloc[:, 511:1022]\n",
        "Y = df_final.loc[:, 'Dosis']"
      ],
      "metadata": {
        "id": "4vlWOb3u4MWa"
      },
      "execution_count": null,
      "outputs": []
    },
    {
      "cell_type": "code",
      "source": [
        "#@title\n",
        "scaler = MinMaxScaler()"
      ],
      "metadata": {
        "id": "mbogpkpv4MWa",
        "cellView": "form"
      },
      "execution_count": null,
      "outputs": []
    },
    {
      "cell_type": "code",
      "source": [
        "#@title\n",
        "X = scaler.fit_transform(X)"
      ],
      "metadata": {
        "id": "jSwD4d4I4MWb",
        "cellView": "form"
      },
      "execution_count": null,
      "outputs": []
    },
    {
      "cell_type": "code",
      "source": [
        "#@title\n",
        "# create a simple model\n",
        "model = RandomForestClassifier()"
      ],
      "metadata": {
        "id": "cWTZXVIL4MWb",
        "cellView": "form"
      },
      "execution_count": null,
      "outputs": []
    },
    {
      "cell_type": "code",
      "source": [
        "#@title\n",
        "# Make a cross validation for 5 folds\n",
        "y_pred = cross_val_predict(model, X, Y, cv=5)"
      ],
      "metadata": {
        "id": "EdocrgBh4MWb",
        "cellView": "form"
      },
      "execution_count": null,
      "outputs": []
    },
    {
      "cell_type": "code",
      "source": [
        "#@title\n",
        "# Make the report\n",
        "report = classification_report(Y, y_pred)\n",
        "print(report)"
      ],
      "metadata": {
        "colab": {
          "base_uri": "https://localhost:8080/"
        },
        "outputId": "c6c1b523-6ad6-45a8-d196-b7788283c49a",
        "id": "aAfFjr7W4MWb",
        "cellView": "form"
      },
      "execution_count": null,
      "outputs": [
        {
          "output_type": "stream",
          "name": "stdout",
          "text": [
            "              precision    recall  f1-score   support\n",
            "\n",
            "         0.0       0.94      0.92      0.93       145\n",
            "        10.0       0.79      0.90      0.84       213\n",
            "        15.0       0.85      0.71      0.77       164\n",
            "        20.0       0.86      0.86      0.86       201\n",
            "\n",
            "    accuracy                           0.85       723\n",
            "   macro avg       0.86      0.85      0.85       723\n",
            "weighted avg       0.85      0.85      0.85       723\n",
            "\n"
          ]
        }
      ]
    },
    {
      "cell_type": "markdown",
      "source": [
        "**2. Irradiation Stage Calculation**"
      ],
      "metadata": {
        "id": "6K9cMcH_4MWb"
      }
    },
    {
      "cell_type": "markdown",
      "source": [
        "Extract data which all columns"
      ],
      "metadata": {
        "id": "s3xw9yi-4MWb"
      }
    },
    {
      "cell_type": "code",
      "source": [
        "X = df_final.iloc[:, 511:1022]\n",
        "Y = df_final.loc[:, 'Irradiation Stage']"
      ],
      "metadata": {
        "id": "vhr1LTep4MWb"
      },
      "execution_count": null,
      "outputs": []
    },
    {
      "cell_type": "code",
      "source": [
        "#@title\n",
        "scaler = MinMaxScaler()"
      ],
      "metadata": {
        "id": "t_lNXLtY4MWc",
        "cellView": "form"
      },
      "execution_count": null,
      "outputs": []
    },
    {
      "cell_type": "code",
      "source": [
        "#@title\n",
        "X = scaler.fit_transform(X)"
      ],
      "metadata": {
        "id": "x9VZCIlU4MWc",
        "cellView": "form"
      },
      "execution_count": null,
      "outputs": []
    },
    {
      "cell_type": "code",
      "source": [
        "#@title\n",
        "# create a simple model\n",
        "model = RandomForestClassifier()"
      ],
      "metadata": {
        "id": "cTlZV-FV4MWc",
        "cellView": "form"
      },
      "execution_count": null,
      "outputs": []
    },
    {
      "cell_type": "code",
      "source": [
        "#@title\n",
        "# Make a cross validation for 5 folds\n",
        "y_pred = cross_val_predict(model, X, Y, cv=5)"
      ],
      "metadata": {
        "id": "mHBCeq2-4MWc",
        "cellView": "form"
      },
      "execution_count": null,
      "outputs": []
    },
    {
      "cell_type": "code",
      "source": [
        "#@title\n",
        "# Make the report\n",
        "report = classification_report(Y, y_pred)\n",
        "print(report)"
      ],
      "metadata": {
        "colab": {
          "base_uri": "https://localhost:8080/"
        },
        "outputId": "37d70633-fbcb-419d-87f8-ca5dd8dfe67b",
        "id": "v5HYw0MO4MWc",
        "cellView": "form"
      },
      "execution_count": null,
      "outputs": [
        {
          "output_type": "stream",
          "name": "stdout",
          "text": [
            "                precision    recall  f1-score   support\n",
            "\n",
            "Not irradiated       0.98      0.90      0.94       145\n",
            "           Oil       0.99      0.97      0.98       253\n",
            "        Sample       0.93      0.98      0.96       325\n",
            "\n",
            "      accuracy                           0.96       723\n",
            "     macro avg       0.97      0.95      0.96       723\n",
            "  weighted avg       0.96      0.96      0.96       723\n",
            "\n"
          ]
        }
      ]
    },
    {
      "cell_type": "markdown",
      "source": [
        "**3. Only Irradiation Calculation**"
      ],
      "metadata": {
        "id": "r3nabzc14MWc"
      }
    },
    {
      "cell_type": "markdown",
      "source": [
        "Extract data which all columns"
      ],
      "metadata": {
        "id": "ILu7_MBx4MWc"
      }
    },
    {
      "cell_type": "code",
      "source": [
        "X = df_final.iloc[:, 511:1022]\n",
        "Y = df_final.loc[:, 'Irradiation']"
      ],
      "metadata": {
        "id": "fPDJgKSL4MWc"
      },
      "execution_count": null,
      "outputs": []
    },
    {
      "cell_type": "code",
      "source": [
        "#@title\n",
        "scaler = MinMaxScaler()"
      ],
      "metadata": {
        "id": "eQZDR7RL4MWc",
        "cellView": "form"
      },
      "execution_count": null,
      "outputs": []
    },
    {
      "cell_type": "code",
      "source": [
        "#@title\n",
        "X = scaler.fit_transform(X)"
      ],
      "metadata": {
        "id": "BdhP58Sz4MWc",
        "cellView": "form"
      },
      "execution_count": null,
      "outputs": []
    },
    {
      "cell_type": "code",
      "source": [
        "#@title\n",
        "# create a simple model\n",
        "model = RandomForestClassifier()"
      ],
      "metadata": {
        "id": "jHwImIl-4MWd",
        "cellView": "form"
      },
      "execution_count": null,
      "outputs": []
    },
    {
      "cell_type": "code",
      "source": [
        "#@title\n",
        "# Make a cross validation for 5 folds\n",
        "y_pred = cross_val_predict(model, X, Y, cv=5)"
      ],
      "metadata": {
        "id": "pJPNYLKb4MWd",
        "cellView": "form"
      },
      "execution_count": null,
      "outputs": []
    },
    {
      "cell_type": "code",
      "source": [
        "#@title\n",
        "# Make the report\n",
        "report = classification_report(Y, y_pred)\n",
        "print(report)"
      ],
      "metadata": {
        "colab": {
          "base_uri": "https://localhost:8080/"
        },
        "outputId": "a680ad5d-6bd0-4e4c-911d-97e4f4716d78",
        "id": "_LdQRNae4MWd",
        "cellView": "form"
      },
      "execution_count": null,
      "outputs": [
        {
          "output_type": "stream",
          "name": "stdout",
          "text": [
            "              precision    recall  f1-score   support\n",
            "\n",
            "           0       0.97      0.88      0.92       145\n",
            "           1       0.97      0.99      0.98       578\n",
            "\n",
            "    accuracy                           0.97       723\n",
            "   macro avg       0.97      0.94      0.95       723\n",
            "weighted avg       0.97      0.97      0.97       723\n",
            "\n"
          ]
        }
      ]
    },
    {
      "cell_type": "markdown",
      "source": [
        "### Create a model with the all columns and a Standard Scaler"
      ],
      "metadata": {
        "id": "8yyB_abl4uvh"
      }
    },
    {
      "cell_type": "code",
      "source": [
        "#@title\n",
        "from sklearn.preprocessing import StandardScaler"
      ],
      "metadata": {
        "id": "bVLqWr864znV",
        "cellView": "form"
      },
      "execution_count": null,
      "outputs": []
    },
    {
      "cell_type": "markdown",
      "source": [
        "**1. Dose calculation**"
      ],
      "metadata": {
        "id": "bcwKoqFB4uvn"
      }
    },
    {
      "cell_type": "markdown",
      "source": [
        "Extract data which all columns"
      ],
      "metadata": {
        "id": "6AzPYJLS4uvn"
      }
    },
    {
      "cell_type": "code",
      "source": [
        "X = df_final.iloc[:, :1022]\n",
        "Y = df_final.loc[:, 'Dosis']"
      ],
      "metadata": {
        "id": "tbWu63hH4uvn"
      },
      "execution_count": null,
      "outputs": []
    },
    {
      "cell_type": "code",
      "source": [
        "#@title\n",
        "scaler = StandardScaler()"
      ],
      "metadata": {
        "id": "Mcpr5DqW4uvn",
        "cellView": "form"
      },
      "execution_count": null,
      "outputs": []
    },
    {
      "cell_type": "code",
      "source": [
        "#@title\n",
        "X = scaler.fit_transform(X)"
      ],
      "metadata": {
        "id": "FSC-tvf-4uvn",
        "cellView": "form"
      },
      "execution_count": null,
      "outputs": []
    },
    {
      "cell_type": "code",
      "source": [
        "#@title\n",
        "# create a simple model\n",
        "model = RandomForestClassifier()"
      ],
      "metadata": {
        "id": "syoKv0eq4uvn",
        "cellView": "form"
      },
      "execution_count": null,
      "outputs": []
    },
    {
      "cell_type": "code",
      "source": [
        "#@title\n",
        "# Make a cross validation for 5 folds\n",
        "y_pred = cross_val_predict(model, X, Y, cv=5)"
      ],
      "metadata": {
        "id": "N2pS0ic94uvn",
        "cellView": "form"
      },
      "execution_count": null,
      "outputs": []
    },
    {
      "cell_type": "code",
      "source": [
        "#@title\n",
        "# Make the report\n",
        "report = classification_report(Y, y_pred)\n",
        "print(report)"
      ],
      "metadata": {
        "colab": {
          "base_uri": "https://localhost:8080/"
        },
        "outputId": "b0aac71c-b851-4ddf-9da2-bcd20cd7f9e3",
        "id": "Qp2viBgW4uvo",
        "cellView": "form"
      },
      "execution_count": null,
      "outputs": [
        {
          "output_type": "stream",
          "name": "stdout",
          "text": [
            "              precision    recall  f1-score   support\n",
            "\n",
            "         0.0       0.98      0.95      0.97       145\n",
            "        10.0       0.83      0.91      0.87       213\n",
            "        15.0       0.87      0.75      0.81       164\n",
            "        20.0       0.88      0.91      0.89       201\n",
            "\n",
            "    accuracy                           0.88       723\n",
            "   macro avg       0.89      0.88      0.88       723\n",
            "weighted avg       0.88      0.88      0.88       723\n",
            "\n"
          ]
        }
      ]
    },
    {
      "cell_type": "markdown",
      "source": [
        "**2. Irradiation Stage Calculation**"
      ],
      "metadata": {
        "id": "vxMm9yWS4uvo"
      }
    },
    {
      "cell_type": "markdown",
      "source": [
        "Extract data which all columns"
      ],
      "metadata": {
        "id": "nffkqG7r4uvo"
      }
    },
    {
      "cell_type": "code",
      "source": [
        "X = df_final.iloc[:, :1022]\n",
        "Y = df_final.loc[:, 'Irradiation Stage']"
      ],
      "metadata": {
        "id": "no1Uvu0o4uvo"
      },
      "execution_count": null,
      "outputs": []
    },
    {
      "cell_type": "code",
      "source": [
        "#@title\n",
        "scaler = StandardScaler()"
      ],
      "metadata": {
        "id": "mcM1PIni4uvo",
        "cellView": "form"
      },
      "execution_count": null,
      "outputs": []
    },
    {
      "cell_type": "code",
      "source": [
        "#@title\n",
        "X = scaler.fit_transform(X)"
      ],
      "metadata": {
        "id": "pY-cSB464uvo",
        "cellView": "form"
      },
      "execution_count": null,
      "outputs": []
    },
    {
      "cell_type": "code",
      "source": [
        "#@title\n",
        "# create a simple model\n",
        "model = RandomForestClassifier()"
      ],
      "metadata": {
        "id": "cN9llv-l4uvo",
        "cellView": "form"
      },
      "execution_count": null,
      "outputs": []
    },
    {
      "cell_type": "code",
      "source": [
        "#@title\n",
        "# Make a cross validation for 5 folds\n",
        "y_pred = cross_val_predict(model, X, Y, cv=5)"
      ],
      "metadata": {
        "id": "3L4jaKL04uvo",
        "cellView": "form"
      },
      "execution_count": null,
      "outputs": []
    },
    {
      "cell_type": "code",
      "source": [
        "#@title\n",
        "# Make the report\n",
        "report = classification_report(Y, y_pred)\n",
        "print(report)"
      ],
      "metadata": {
        "colab": {
          "base_uri": "https://localhost:8080/"
        },
        "outputId": "7c5a7649-5023-48fa-c79a-f9ce608f3f38",
        "id": "bKkkEQBB4uvo",
        "cellView": "form"
      },
      "execution_count": null,
      "outputs": [
        {
          "output_type": "stream",
          "name": "stdout",
          "text": [
            "                precision    recall  f1-score   support\n",
            "\n",
            "Not irradiated       0.99      0.92      0.95       145\n",
            "           Oil       0.99      0.97      0.98       253\n",
            "        Sample       0.94      0.99      0.97       325\n",
            "\n",
            "      accuracy                           0.97       723\n",
            "     macro avg       0.97      0.96      0.97       723\n",
            "  weighted avg       0.97      0.97      0.97       723\n",
            "\n"
          ]
        }
      ]
    },
    {
      "cell_type": "markdown",
      "source": [
        "**3. Only Irradiation Calculation**"
      ],
      "metadata": {
        "id": "98_fMo544uvp"
      }
    },
    {
      "cell_type": "markdown",
      "source": [
        "Extract data which all columns"
      ],
      "metadata": {
        "id": "Of-QaBQx4uvp"
      }
    },
    {
      "cell_type": "code",
      "source": [
        "X = df_final.iloc[:, :1022]\n",
        "Y = df_final.loc[:, 'Irradiation']"
      ],
      "metadata": {
        "id": "X3MRr5EF4uvp"
      },
      "execution_count": null,
      "outputs": []
    },
    {
      "cell_type": "code",
      "source": [
        "#@title\n",
        "scaler = StandardScaler()"
      ],
      "metadata": {
        "id": "ZCZdKU9n4uvp",
        "cellView": "form"
      },
      "execution_count": null,
      "outputs": []
    },
    {
      "cell_type": "code",
      "source": [
        "#@title\n",
        "X = scaler.fit_transform(X)"
      ],
      "metadata": {
        "id": "3RnG8Pqh4uvp",
        "cellView": "form"
      },
      "execution_count": null,
      "outputs": []
    },
    {
      "cell_type": "code",
      "source": [
        "#@title\n",
        "# create a simple model\n",
        "model = RandomForestClassifier()"
      ],
      "metadata": {
        "id": "gNTPdELG4uvp",
        "cellView": "form"
      },
      "execution_count": null,
      "outputs": []
    },
    {
      "cell_type": "code",
      "source": [
        "#@title\n",
        "# Make a cross validation for 5 folds\n",
        "y_pred = cross_val_predict(model, X, Y, cv=5)"
      ],
      "metadata": {
        "id": "mH2fJJh24uvp",
        "cellView": "form"
      },
      "execution_count": null,
      "outputs": []
    },
    {
      "cell_type": "code",
      "source": [
        "#@title\n",
        "# Make the report\n",
        "report = classification_report(Y, y_pred)\n",
        "print(report)"
      ],
      "metadata": {
        "colab": {
          "base_uri": "https://localhost:8080/"
        },
        "outputId": "4d702c84-7e3d-4660-e960-5ca949e42c92",
        "id": "1rdj8fCL4uvp",
        "cellView": "form"
      },
      "execution_count": null,
      "outputs": [
        {
          "output_type": "stream",
          "name": "stdout",
          "text": [
            "              precision    recall  f1-score   support\n",
            "\n",
            "           0       0.99      0.92      0.95       145\n",
            "           1       0.98      1.00      0.99       578\n",
            "\n",
            "    accuracy                           0.98       723\n",
            "   macro avg       0.99      0.96      0.97       723\n",
            "weighted avg       0.98      0.98      0.98       723\n",
            "\n"
          ]
        }
      ]
    },
    {
      "cell_type": "markdown",
      "source": [
        "### Create a model with only Raman columns and a Standard Scaler"
      ],
      "metadata": {
        "id": "UGfg1o2q4uvq"
      }
    },
    {
      "cell_type": "markdown",
      "source": [
        "**1. Dose calculation**"
      ],
      "metadata": {
        "id": "adNDgBLb4uvq"
      }
    },
    {
      "cell_type": "markdown",
      "source": [
        "Extract data which all columns"
      ],
      "metadata": {
        "id": "ovlAjynL4uvq"
      }
    },
    {
      "cell_type": "code",
      "source": [
        "X = df_final.iloc[:, 511:1022]\n",
        "Y = df_final.loc[:, 'Dosis']"
      ],
      "metadata": {
        "id": "FLM5Ihau4uvq"
      },
      "execution_count": null,
      "outputs": []
    },
    {
      "cell_type": "code",
      "source": [
        "#@title\n",
        "scaler = StandardScaler()"
      ],
      "metadata": {
        "id": "BY0wnPt_4uvq",
        "cellView": "form"
      },
      "execution_count": null,
      "outputs": []
    },
    {
      "cell_type": "code",
      "source": [
        "#@title\n",
        "X = scaler.fit_transform(X)"
      ],
      "metadata": {
        "id": "J53I9XUl4uvq",
        "cellView": "form"
      },
      "execution_count": null,
      "outputs": []
    },
    {
      "cell_type": "code",
      "source": [
        "#@title\n",
        "# create a simple model\n",
        "model = RandomForestClassifier()"
      ],
      "metadata": {
        "id": "PtEkrTUd4uvq",
        "cellView": "form"
      },
      "execution_count": null,
      "outputs": []
    },
    {
      "cell_type": "code",
      "source": [
        "#@title\n",
        "# Make a cross validation for 5 folds\n",
        "y_pred = cross_val_predict(model, X, Y, cv=5)"
      ],
      "metadata": {
        "id": "P6t5XA8b4uvq",
        "cellView": "form"
      },
      "execution_count": null,
      "outputs": []
    },
    {
      "cell_type": "code",
      "source": [
        "#@title\n",
        "# Make the report\n",
        "report = classification_report(Y, y_pred)\n",
        "print(report)"
      ],
      "metadata": {
        "colab": {
          "base_uri": "https://localhost:8080/"
        },
        "outputId": "9b00114d-5b08-4d0c-d54a-5f741d43443d",
        "id": "FSb4r8fO4uvq",
        "cellView": "form"
      },
      "execution_count": null,
      "outputs": [
        {
          "output_type": "stream",
          "name": "stdout",
          "text": [
            "              precision    recall  f1-score   support\n",
            "\n",
            "         0.0       0.96      0.94      0.95       145\n",
            "        10.0       0.80      0.91      0.85       213\n",
            "        15.0       0.85      0.71      0.77       164\n",
            "        20.0       0.86      0.86      0.86       201\n",
            "\n",
            "    accuracy                           0.86       723\n",
            "   macro avg       0.87      0.85      0.86       723\n",
            "weighted avg       0.86      0.86      0.85       723\n",
            "\n"
          ]
        }
      ]
    },
    {
      "cell_type": "markdown",
      "source": [
        "**2. Irradiation Stage Calculation**"
      ],
      "metadata": {
        "id": "sDGyyKH24uvq"
      }
    },
    {
      "cell_type": "markdown",
      "source": [
        "Extract data which all columns"
      ],
      "metadata": {
        "id": "Kj1XOO5i4uvq"
      }
    },
    {
      "cell_type": "code",
      "source": [
        "X = df_final.iloc[:, 511:1022]\n",
        "Y = df_final.loc[:, 'Irradiation Stage']"
      ],
      "metadata": {
        "id": "E7gH2qdK4uvq"
      },
      "execution_count": null,
      "outputs": []
    },
    {
      "cell_type": "code",
      "source": [
        "#@title\n",
        "scaler = StandardScaler()"
      ],
      "metadata": {
        "id": "jorIGc5x4uvr",
        "cellView": "form"
      },
      "execution_count": null,
      "outputs": []
    },
    {
      "cell_type": "code",
      "source": [
        "#@title\n",
        "X = scaler.fit_transform(X)"
      ],
      "metadata": {
        "id": "_YiyT0sX4uvr",
        "cellView": "form"
      },
      "execution_count": null,
      "outputs": []
    },
    {
      "cell_type": "code",
      "source": [
        "#@title\n",
        "# create a simple model\n",
        "model = RandomForestClassifier()"
      ],
      "metadata": {
        "id": "pKx5uWkA4uvr",
        "cellView": "form"
      },
      "execution_count": null,
      "outputs": []
    },
    {
      "cell_type": "code",
      "source": [
        "#@title\n",
        "# Make a cross validation for 5 folds\n",
        "y_pred = cross_val_predict(model, X, Y, cv=5)"
      ],
      "metadata": {
        "id": "AIQjag_c4uvr",
        "cellView": "form"
      },
      "execution_count": null,
      "outputs": []
    },
    {
      "cell_type": "code",
      "source": [
        "#@title\n",
        "# Make the report\n",
        "report = classification_report(Y, y_pred)\n",
        "print(report)"
      ],
      "metadata": {
        "colab": {
          "base_uri": "https://localhost:8080/"
        },
        "outputId": "9fc34c6a-7c94-43e9-f23b-24d9ce18e038",
        "id": "whJRJ3Om4uvr",
        "cellView": "form"
      },
      "execution_count": null,
      "outputs": [
        {
          "output_type": "stream",
          "name": "stdout",
          "text": [
            "                precision    recall  f1-score   support\n",
            "\n",
            "Not irradiated       0.95      0.90      0.93       145\n",
            "           Oil       0.98      0.97      0.98       253\n",
            "        Sample       0.94      0.97      0.96       325\n",
            "\n",
            "      accuracy                           0.96       723\n",
            "     macro avg       0.96      0.95      0.95       723\n",
            "  weighted avg       0.96      0.96      0.96       723\n",
            "\n"
          ]
        }
      ]
    },
    {
      "cell_type": "markdown",
      "source": [
        "**3. Only Irradiation Calculation**"
      ],
      "metadata": {
        "id": "h1of7dfK4uvr"
      }
    },
    {
      "cell_type": "markdown",
      "source": [
        "Extract data which all columns"
      ],
      "metadata": {
        "id": "QTQaX2-y4uvr"
      }
    },
    {
      "cell_type": "code",
      "source": [
        "X = df_final.iloc[:, 511:1022]\n",
        "Y = df_final.loc[:, 'Irradiation']"
      ],
      "metadata": {
        "id": "EX1MT-SE4uvr"
      },
      "execution_count": null,
      "outputs": []
    },
    {
      "cell_type": "code",
      "source": [
        "#@title\n",
        "scaler = StandardScaler()"
      ],
      "metadata": {
        "id": "HrJta8hz4uvr",
        "cellView": "form"
      },
      "execution_count": null,
      "outputs": []
    },
    {
      "cell_type": "code",
      "source": [
        "#@title\n",
        "X = scaler.fit_transform(X)"
      ],
      "metadata": {
        "id": "iJAfxpLs4uvr",
        "cellView": "form"
      },
      "execution_count": null,
      "outputs": []
    },
    {
      "cell_type": "code",
      "source": [
        "#@title\n",
        "# create a simple model\n",
        "model = RandomForestClassifier()"
      ],
      "metadata": {
        "id": "MeHCcPhQ4uvs",
        "cellView": "form"
      },
      "execution_count": null,
      "outputs": []
    },
    {
      "cell_type": "code",
      "source": [
        "#@title\n",
        "# Make a cross validation for 5 folds\n",
        "y_pred = cross_val_predict(model, X, Y, cv=5)"
      ],
      "metadata": {
        "id": "dYPHfy1e4uvs",
        "cellView": "form"
      },
      "execution_count": null,
      "outputs": []
    },
    {
      "cell_type": "code",
      "source": [
        "#@title\n",
        "# Make the report\n",
        "report = classification_report(Y, y_pred)\n",
        "print(report)"
      ],
      "metadata": {
        "colab": {
          "base_uri": "https://localhost:8080/"
        },
        "outputId": "68bd6cac-551d-42d0-eb6d-a95f537f2f3a",
        "id": "IaIDQ4iu4uvs",
        "cellView": "form"
      },
      "execution_count": null,
      "outputs": [
        {
          "output_type": "stream",
          "name": "stdout",
          "text": [
            "              precision    recall  f1-score   support\n",
            "\n",
            "           0       0.97      0.90      0.93       145\n",
            "           1       0.97      0.99      0.98       578\n",
            "\n",
            "    accuracy                           0.97       723\n",
            "   macro avg       0.97      0.94      0.96       723\n",
            "weighted avg       0.97      0.97      0.97       723\n",
            "\n"
          ]
        }
      ]
    },
    {
      "cell_type": "markdown",
      "source": [
        "### Create a model with the only Raman squashed by the sqrt"
      ],
      "metadata": {
        "id": "aRTlCkAJ8Ik-"
      }
    },
    {
      "cell_type": "markdown",
      "source": [
        "**1. Dose calculation**"
      ],
      "metadata": {
        "id": "KblxmG238Ik-"
      }
    },
    {
      "cell_type": "markdown",
      "source": [
        "Extract data which all columns"
      ],
      "metadata": {
        "id": "5wGtRbsj8Ik-"
      }
    },
    {
      "cell_type": "code",
      "source": [
        "X = df_final.iloc[:, 511:1022]\n",
        "Y = df_final.loc[:, 'Dosis']"
      ],
      "metadata": {
        "id": "uXxlfYGQ8Ik_"
      },
      "execution_count": null,
      "outputs": []
    },
    {
      "cell_type": "code",
      "source": [
        "#@title\n",
        "X = X.applymap(np.sqrt)"
      ],
      "metadata": {
        "id": "ijKNqAXe8Ik_",
        "cellView": "form"
      },
      "execution_count": null,
      "outputs": []
    },
    {
      "cell_type": "code",
      "source": [
        "#@title\n",
        "from sklearn.model_selection import cross_val_predict\n",
        "from sklearn.metrics import classification_report\n",
        "from sklearn.ensemble import RandomForestClassifier"
      ],
      "metadata": {
        "id": "_0LSXIVi8Ik_",
        "cellView": "form"
      },
      "execution_count": null,
      "outputs": []
    },
    {
      "cell_type": "code",
      "source": [
        "#@title\n",
        "# create a simple model\n",
        "model = RandomForestClassifier()"
      ],
      "metadata": {
        "id": "xFBioPs78IlA",
        "cellView": "form"
      },
      "execution_count": null,
      "outputs": []
    },
    {
      "cell_type": "code",
      "source": [
        "#@title\n",
        "# Make a cross validation for 5 folds\n",
        "y_pred = cross_val_predict(model, X, Y, cv=5)"
      ],
      "metadata": {
        "id": "4BSAPXC78IlA",
        "cellView": "form"
      },
      "execution_count": null,
      "outputs": []
    },
    {
      "cell_type": "code",
      "source": [
        "#@title\n",
        "# Make the report\n",
        "report = classification_report(Y, y_pred)\n",
        "print(report)"
      ],
      "metadata": {
        "colab": {
          "base_uri": "https://localhost:8080/"
        },
        "outputId": "fb1024fd-71cd-4e93-c2a1-c33514260b35",
        "id": "NsfYaTMz8IlA",
        "cellView": "form"
      },
      "execution_count": null,
      "outputs": [
        {
          "output_type": "stream",
          "name": "stdout",
          "text": [
            "              precision    recall  f1-score   support\n",
            "\n",
            "         0.0       0.96      0.94      0.95       145\n",
            "        10.0       0.79      0.90      0.84       213\n",
            "        15.0       0.85      0.74      0.79       164\n",
            "        20.0       0.89      0.87      0.88       201\n",
            "\n",
            "    accuracy                           0.86       723\n",
            "   macro avg       0.87      0.86      0.87       723\n",
            "weighted avg       0.87      0.86      0.86       723\n",
            "\n"
          ]
        }
      ]
    },
    {
      "cell_type": "markdown",
      "source": [
        "**2. Irradiation Stage Calculation**"
      ],
      "metadata": {
        "id": "MUZoeH_a8IlA"
      }
    },
    {
      "cell_type": "markdown",
      "source": [
        "Extract data which all columns"
      ],
      "metadata": {
        "id": "0h0tmBOQ8IlB"
      }
    },
    {
      "cell_type": "code",
      "source": [
        "X = df_final.iloc[:, 511:1022]\n",
        "Y = df_final.loc[:, 'Irradiation Stage']"
      ],
      "metadata": {
        "id": "E9ABDvG18IlB"
      },
      "execution_count": null,
      "outputs": []
    },
    {
      "cell_type": "code",
      "source": [
        "#@title\n",
        "X = X.applymap(np.sqrt)"
      ],
      "metadata": {
        "id": "d_vt9gWK9AH7",
        "cellView": "form"
      },
      "execution_count": null,
      "outputs": []
    },
    {
      "cell_type": "code",
      "source": [
        "#@title\n",
        "# create a simple model\n",
        "model = RandomForestClassifier()"
      ],
      "metadata": {
        "id": "XoFpZtNz8IlB",
        "cellView": "form"
      },
      "execution_count": null,
      "outputs": []
    },
    {
      "cell_type": "code",
      "source": [
        "#@title\n",
        "# Make a cross validation for 5 folds\n",
        "y_pred = cross_val_predict(model, X, Y, cv=5)"
      ],
      "metadata": {
        "id": "0v6-AS0t8IlB",
        "cellView": "form"
      },
      "execution_count": null,
      "outputs": []
    },
    {
      "cell_type": "code",
      "source": [
        "#@title\n",
        "# Make the report\n",
        "report = classification_report(Y, y_pred)\n",
        "print(report)"
      ],
      "metadata": {
        "colab": {
          "base_uri": "https://localhost:8080/"
        },
        "outputId": "bf37cd50-bc1e-4671-af81-f1cbbf2bbf9c",
        "id": "6isfXYCg8IlB",
        "cellView": "form"
      },
      "execution_count": null,
      "outputs": [
        {
          "output_type": "stream",
          "name": "stdout",
          "text": [
            "                precision    recall  f1-score   support\n",
            "\n",
            "Not irradiated       0.99      0.91      0.95       145\n",
            "           Oil       0.99      0.97      0.98       253\n",
            "        Sample       0.94      0.99      0.96       325\n",
            "\n",
            "      accuracy                           0.97       723\n",
            "     macro avg       0.97      0.96      0.96       723\n",
            "  weighted avg       0.97      0.97      0.97       723\n",
            "\n"
          ]
        }
      ]
    },
    {
      "cell_type": "markdown",
      "source": [
        "**3. Only Irradiation Calculation**"
      ],
      "metadata": {
        "id": "ImqVoNWZ8IlC"
      }
    },
    {
      "cell_type": "markdown",
      "source": [
        "Extract data which all columns"
      ],
      "metadata": {
        "id": "z9sC4AVd8IlC"
      }
    },
    {
      "cell_type": "code",
      "source": [
        "X = df_final.iloc[:, 511:1022]\n",
        "Y = df_final.loc[:, 'Irradiation']"
      ],
      "metadata": {
        "id": "tO-yZn2c8IlC"
      },
      "execution_count": null,
      "outputs": []
    },
    {
      "cell_type": "code",
      "source": [
        "#@title\n",
        "X = X.applymap(np.sqrt)"
      ],
      "metadata": {
        "id": "Whhx_ErE9Ef3",
        "cellView": "form"
      },
      "execution_count": null,
      "outputs": []
    },
    {
      "cell_type": "code",
      "source": [
        "#@title\n",
        "# create a simple model\n",
        "model = RandomForestClassifier()"
      ],
      "metadata": {
        "id": "jLWBpsqi8IlC",
        "cellView": "form"
      },
      "execution_count": null,
      "outputs": []
    },
    {
      "cell_type": "code",
      "source": [
        "#@title\n",
        "# Make a cross validation for 5 folds\n",
        "y_pred = cross_val_predict(model, X, Y, cv=5)"
      ],
      "metadata": {
        "id": "OTE6mfSX8IlC",
        "cellView": "form"
      },
      "execution_count": null,
      "outputs": []
    },
    {
      "cell_type": "code",
      "source": [
        "#@title\n",
        "# Make the report\n",
        "report = classification_report(Y, y_pred)\n",
        "print(report)"
      ],
      "metadata": {
        "colab": {
          "base_uri": "https://localhost:8080/"
        },
        "outputId": "4838531f-bff2-4ac7-d6e0-eab996bf8bfc",
        "id": "6M7wS6wj8IlD",
        "cellView": "form"
      },
      "execution_count": null,
      "outputs": [
        {
          "output_type": "stream",
          "name": "stdout",
          "text": [
            "              precision    recall  f1-score   support\n",
            "\n",
            "           0       0.98      0.90      0.94       145\n",
            "           1       0.98      1.00      0.99       578\n",
            "\n",
            "    accuracy                           0.98       723\n",
            "   macro avg       0.98      0.95      0.96       723\n",
            "weighted avg       0.98      0.98      0.98       723\n",
            "\n"
          ]
        }
      ]
    },
    {
      "cell_type": "markdown",
      "source": [
        "### Create a model with the only Raman squashed by the sigmoid squashing"
      ],
      "metadata": {
        "id": "1BHlL9jG9Y_i"
      }
    },
    {
      "cell_type": "markdown",
      "source": [
        "**1. Dose calculation**"
      ],
      "metadata": {
        "id": "zgQXJlJ89Y_i"
      }
    },
    {
      "cell_type": "markdown",
      "source": [
        "Extract data which all columns"
      ],
      "metadata": {
        "id": "Cxld1sDz9Y_j"
      }
    },
    {
      "cell_type": "code",
      "source": [
        "X = df_final.iloc[:, 511:1022]\n",
        "Y = df_final.loc[:, 'Dosis']"
      ],
      "metadata": {
        "id": "h_ozCYrB9Y_j"
      },
      "execution_count": null,
      "outputs": []
    },
    {
      "cell_type": "code",
      "source": [
        "#@title\n",
        "def my_func(x):\n",
        "    return (1 - np.cos(np.pi * x)) / 2"
      ],
      "metadata": {
        "id": "Wy0ohqo69cwn",
        "cellView": "form"
      },
      "execution_count": null,
      "outputs": []
    },
    {
      "cell_type": "code",
      "source": [
        "#@title\n",
        "X = X.applymap(my_func)"
      ],
      "metadata": {
        "id": "MtcgdEil9Y_k",
        "cellView": "form"
      },
      "execution_count": null,
      "outputs": []
    },
    {
      "cell_type": "code",
      "source": [
        "#@title\n",
        "# create a simple model\n",
        "model = RandomForestClassifier()"
      ],
      "metadata": {
        "id": "4jfZ6l339Y_k",
        "cellView": "form"
      },
      "execution_count": null,
      "outputs": []
    },
    {
      "cell_type": "code",
      "source": [
        "#@title\n",
        "# Make a cross validation for 5 folds\n",
        "y_pred = cross_val_predict(model, X, Y, cv=5)"
      ],
      "metadata": {
        "id": "QvtqJOjb9Y_l",
        "cellView": "form"
      },
      "execution_count": null,
      "outputs": []
    },
    {
      "cell_type": "code",
      "source": [
        "#@title\n",
        "# Make the report\n",
        "report = classification_report(Y, y_pred)\n",
        "print(report)"
      ],
      "metadata": {
        "colab": {
          "base_uri": "https://localhost:8080/"
        },
        "outputId": "db41629f-a829-4782-fd68-c799c312b67d",
        "id": "5i3YK22p9Y_l",
        "cellView": "form"
      },
      "execution_count": null,
      "outputs": [
        {
          "output_type": "stream",
          "name": "stdout",
          "text": [
            "              precision    recall  f1-score   support\n",
            "\n",
            "         0.0       0.29      0.07      0.11       145\n",
            "        10.0       0.32      0.58      0.41       213\n",
            "        15.0       0.22      0.10      0.14       164\n",
            "        20.0       0.26      0.29      0.27       201\n",
            "\n",
            "    accuracy                           0.29       723\n",
            "   macro avg       0.27      0.26      0.23       723\n",
            "weighted avg       0.27      0.29      0.25       723\n",
            "\n"
          ]
        }
      ]
    },
    {
      "cell_type": "markdown",
      "source": [
        "**2. Irradiation Stage Calculation**"
      ],
      "metadata": {
        "id": "DqV7diXP9Y_l"
      }
    },
    {
      "cell_type": "markdown",
      "source": [
        "Extract data which all columns"
      ],
      "metadata": {
        "id": "pJ4q7Avd9Y_l"
      }
    },
    {
      "cell_type": "code",
      "source": [
        "X = df_final.iloc[:, 511:1022]\n",
        "Y = df_final.loc[:, 'Irradiation Stage']"
      ],
      "metadata": {
        "id": "BFVtkbGi9Y_m"
      },
      "execution_count": null,
      "outputs": []
    },
    {
      "cell_type": "code",
      "source": [
        "#@title\n",
        "def my_func(x):\n",
        "    return (1 - np.cos(np.pi * x)) / 2"
      ],
      "metadata": {
        "id": "BT_8Sz2b9kv7",
        "cellView": "form"
      },
      "execution_count": null,
      "outputs": []
    },
    {
      "cell_type": "code",
      "source": [
        "#@title\n",
        "X = X.applymap(my_func)"
      ],
      "metadata": {
        "id": "lz7zsOXZ9kv8",
        "cellView": "form"
      },
      "execution_count": null,
      "outputs": []
    },
    {
      "cell_type": "code",
      "source": [
        "#@title\n",
        "# create a simple model\n",
        "model = RandomForestClassifier()"
      ],
      "metadata": {
        "id": "BAWQBaT69Y_m",
        "cellView": "form"
      },
      "execution_count": null,
      "outputs": []
    },
    {
      "cell_type": "code",
      "source": [
        "#@title\n",
        "# Make a cross validation for 5 folds\n",
        "y_pred = cross_val_predict(model, X, Y, cv=5)"
      ],
      "metadata": {
        "id": "yANYa1CV9Y_m",
        "cellView": "form"
      },
      "execution_count": null,
      "outputs": []
    },
    {
      "cell_type": "code",
      "source": [
        "#@title\n",
        "# Make the report\n",
        "report = classification_report(Y, y_pred)\n",
        "print(report)"
      ],
      "metadata": {
        "colab": {
          "base_uri": "https://localhost:8080/"
        },
        "outputId": "603e78e8-9a3d-405d-a2fc-ecb04446486d",
        "id": "uiGVWp9a9Y_n",
        "cellView": "form"
      },
      "execution_count": null,
      "outputs": [
        {
          "output_type": "stream",
          "name": "stdout",
          "text": [
            "                precision    recall  f1-score   support\n",
            "\n",
            "Not irradiated       0.00      0.00      0.00       145\n",
            "           Oil       0.37      0.21      0.27       253\n",
            "        Sample       0.45      0.80      0.58       325\n",
            "\n",
            "      accuracy                           0.43       723\n",
            "     macro avg       0.27      0.34      0.28       723\n",
            "  weighted avg       0.33      0.43      0.35       723\n",
            "\n"
          ]
        }
      ]
    },
    {
      "cell_type": "markdown",
      "source": [
        "**3. Only Irradiation Calculation**"
      ],
      "metadata": {
        "id": "3vsBZWw69Y_n"
      }
    },
    {
      "cell_type": "markdown",
      "source": [
        "Extract data which all columns"
      ],
      "metadata": {
        "id": "HXB1HYxz9Y_n"
      }
    },
    {
      "cell_type": "code",
      "source": [
        "X = df_final.iloc[:, 511:1022]\n",
        "Y = df_final.loc[:, 'Irradiation']"
      ],
      "metadata": {
        "id": "6bkZY_sG9Y_n"
      },
      "execution_count": null,
      "outputs": []
    },
    {
      "cell_type": "code",
      "source": [
        "#@title\n",
        "def my_func(x):\n",
        "    return (1 - np.cos(np.pi * x)) / 2"
      ],
      "metadata": {
        "id": "-g8osLgz9pgj",
        "cellView": "form"
      },
      "execution_count": null,
      "outputs": []
    },
    {
      "cell_type": "code",
      "source": [
        "#@title\n",
        "X = X.applymap(my_func)"
      ],
      "metadata": {
        "id": "g9s1rGLf9pgk",
        "cellView": "form"
      },
      "execution_count": null,
      "outputs": []
    },
    {
      "cell_type": "code",
      "source": [
        "#@title\n",
        "# create a simple model\n",
        "model = RandomForestClassifier()"
      ],
      "metadata": {
        "id": "Tgyu3lDi9Y_o",
        "cellView": "form"
      },
      "execution_count": null,
      "outputs": []
    },
    {
      "cell_type": "code",
      "source": [
        "#@title\n",
        "# Make a cross validation for 5 folds\n",
        "y_pred = cross_val_predict(model, X, Y, cv=5)"
      ],
      "metadata": {
        "id": "viyOnfCM9Y_o",
        "cellView": "form"
      },
      "execution_count": null,
      "outputs": []
    },
    {
      "cell_type": "code",
      "source": [
        "#@title\n",
        "# Make the report\n",
        "report = classification_report(Y, y_pred)\n",
        "print(report)"
      ],
      "metadata": {
        "colab": {
          "base_uri": "https://localhost:8080/"
        },
        "outputId": "add22beb-3427-490b-87b8-0a019013aad3",
        "id": "pQb7yuAR9Y_o",
        "cellView": "form"
      },
      "execution_count": null,
      "outputs": [
        {
          "output_type": "stream",
          "name": "stdout",
          "text": [
            "              precision    recall  f1-score   support\n",
            "\n",
            "           0       0.00      0.00      0.00       145\n",
            "           1       0.80      1.00      0.89       578\n",
            "\n",
            "    accuracy                           0.80       723\n",
            "   macro avg       0.40      0.50      0.44       723\n",
            "weighted avg       0.64      0.80      0.71       723\n",
            "\n"
          ]
        },
        {
          "output_type": "stream",
          "name": "stderr",
          "text": [
            "/usr/local/lib/python3.8/dist-packages/sklearn/metrics/_classification.py:1344: UndefinedMetricWarning: Precision and F-score are ill-defined and being set to 0.0 in labels with no predicted samples. Use `zero_division` parameter to control this behavior.\n",
            "  _warn_prf(average, modifier, msg_start, len(result))\n",
            "/usr/local/lib/python3.8/dist-packages/sklearn/metrics/_classification.py:1344: UndefinedMetricWarning: Precision and F-score are ill-defined and being set to 0.0 in labels with no predicted samples. Use `zero_division` parameter to control this behavior.\n",
            "  _warn_prf(average, modifier, msg_start, len(result))\n",
            "/usr/local/lib/python3.8/dist-packages/sklearn/metrics/_classification.py:1344: UndefinedMetricWarning: Precision and F-score are ill-defined and being set to 0.0 in labels with no predicted samples. Use `zero_division` parameter to control this behavior.\n",
            "  _warn_prf(average, modifier, msg_start, len(result))\n"
          ]
        }
      ]
    },
    {
      "cell_type": "markdown",
      "source": [
        "### Results"
      ],
      "metadata": {
        "id": "Q1jbRrCn-_25"
      }
    },
    {
      "cell_type": "markdown",
      "source": [
        "Based on the previous results the best approach would be using only the Raman values of the spectrum"
      ],
      "metadata": {
        "id": "nFchDlpm_Cdh"
      }
    },
    {
      "cell_type": "markdown",
      "source": [
        "## Final Model Creation\n",
        "\n",
        "It is going to be tunned the hyper-parameters of a Random Forest Classifier based on the precision"
      ],
      "metadata": {
        "id": "lTHW6QOT_S0t"
      }
    },
    {
      "cell_type": "markdown",
      "source": [
        "**1. Model for dose calculation**"
      ],
      "metadata": {
        "id": "7ZQMDkwuAxtc"
      }
    },
    {
      "cell_type": "code",
      "source": [
        "# Define the parameter to optimize\n",
        "param_dist = {\"n_estimators\": [10,50,100,200,500,1000],\n",
        "              \"max_depth\": [2,5,7],\n",
        "              \"max_features\": [1,2,4,8,20],\n",
        "              \"min_samples_split\": [2,4,8],\n",
        "              \"min_samples_leaf\": [2,4,8],\n",
        "              \"bootstrap\": [True, False]}"
      ],
      "metadata": {
        "id": "oqmUlxbR_Opp"
      },
      "execution_count": null,
      "outputs": []
    },
    {
      "cell_type": "code",
      "source": [
        "#@title\n",
        "# Create a model\n",
        "rf = RandomForestClassifier()"
      ],
      "metadata": {
        "id": "rvoWlFiH_01A",
        "cellView": "form"
      },
      "execution_count": null,
      "outputs": []
    },
    {
      "cell_type": "code",
      "source": [
        "#@title\n",
        "from sklearn.model_selection import RandomizedSearchCV"
      ],
      "metadata": {
        "id": "zKYmO8gyAhX4",
        "cellView": "form"
      },
      "execution_count": null,
      "outputs": []
    },
    {
      "cell_type": "code",
      "source": [
        "#@title\n",
        "# Make the optimization\n",
        "random_search = RandomizedSearchCV(rf, param_distributions=param_dist,\n",
        "                                   n_iter=10, cv=5, scoring='accuracy')"
      ],
      "metadata": {
        "id": "H8A35TitAcvC",
        "cellView": "form"
      },
      "execution_count": null,
      "outputs": []
    },
    {
      "cell_type": "code",
      "source": [
        "#@title\n",
        "X = df_final.iloc[:, 511:1022]\n",
        "Y = df_final.loc[:, 'Dosis']"
      ],
      "metadata": {
        "id": "owC-fmmOAwPQ",
        "cellView": "form"
      },
      "execution_count": null,
      "outputs": []
    },
    {
      "cell_type": "code",
      "source": [
        "#@title\n",
        "scaler = MinMaxScaler()"
      ],
      "metadata": {
        "id": "yB1cC2tAAwPQ",
        "cellView": "form"
      },
      "execution_count": null,
      "outputs": []
    },
    {
      "cell_type": "code",
      "source": [
        "#@title\n",
        "X = scaler.fit_transform(X)"
      ],
      "metadata": {
        "id": "_wr-tE_RAwPR",
        "cellView": "form"
      },
      "execution_count": null,
      "outputs": []
    },
    {
      "cell_type": "code",
      "source": [
        "#@title\n",
        "random_search.fit(X, Y)"
      ],
      "metadata": {
        "colab": {
          "base_uri": "https://localhost:8080/",
          "height": 117
        },
        "id": "eGVfawX4AixP",
        "outputId": "a5e1a027-9637-4236-8924-c8e3bba45e6d",
        "cellView": "form"
      },
      "execution_count": null,
      "outputs": [
        {
          "output_type": "execute_result",
          "data": {
            "text/plain": [
              "RandomizedSearchCV(cv=5, estimator=RandomForestClassifier(),\n",
              "                   param_distributions={'bootstrap': [True, False],\n",
              "                                        'max_depth': [2, 5, 7],\n",
              "                                        'max_features': [1, 2, 4, 8, 20],\n",
              "                                        'min_samples_leaf': [2, 4, 8],\n",
              "                                        'min_samples_split': [2, 4, 8],\n",
              "                                        'n_estimators': [10, 50, 100, 200, 500,\n",
              "                                                         1000]},\n",
              "                   scoring='accuracy')"
            ],
            "text/html": [
              "<style>#sk-container-id-1 {color: black;background-color: white;}#sk-container-id-1 pre{padding: 0;}#sk-container-id-1 div.sk-toggleable {background-color: white;}#sk-container-id-1 label.sk-toggleable__label {cursor: pointer;display: block;width: 100%;margin-bottom: 0;padding: 0.3em;box-sizing: border-box;text-align: center;}#sk-container-id-1 label.sk-toggleable__label-arrow:before {content: \"▸\";float: left;margin-right: 0.25em;color: #696969;}#sk-container-id-1 label.sk-toggleable__label-arrow:hover:before {color: black;}#sk-container-id-1 div.sk-estimator:hover label.sk-toggleable__label-arrow:before {color: black;}#sk-container-id-1 div.sk-toggleable__content {max-height: 0;max-width: 0;overflow: hidden;text-align: left;background-color: #f0f8ff;}#sk-container-id-1 div.sk-toggleable__content pre {margin: 0.2em;color: black;border-radius: 0.25em;background-color: #f0f8ff;}#sk-container-id-1 input.sk-toggleable__control:checked~div.sk-toggleable__content {max-height: 200px;max-width: 100%;overflow: auto;}#sk-container-id-1 input.sk-toggleable__control:checked~label.sk-toggleable__label-arrow:before {content: \"▾\";}#sk-container-id-1 div.sk-estimator input.sk-toggleable__control:checked~label.sk-toggleable__label {background-color: #d4ebff;}#sk-container-id-1 div.sk-label input.sk-toggleable__control:checked~label.sk-toggleable__label {background-color: #d4ebff;}#sk-container-id-1 input.sk-hidden--visually {border: 0;clip: rect(1px 1px 1px 1px);clip: rect(1px, 1px, 1px, 1px);height: 1px;margin: -1px;overflow: hidden;padding: 0;position: absolute;width: 1px;}#sk-container-id-1 div.sk-estimator {font-family: monospace;background-color: #f0f8ff;border: 1px dotted black;border-radius: 0.25em;box-sizing: border-box;margin-bottom: 0.5em;}#sk-container-id-1 div.sk-estimator:hover {background-color: #d4ebff;}#sk-container-id-1 div.sk-parallel-item::after {content: \"\";width: 100%;border-bottom: 1px solid gray;flex-grow: 1;}#sk-container-id-1 div.sk-label:hover label.sk-toggleable__label {background-color: #d4ebff;}#sk-container-id-1 div.sk-serial::before {content: \"\";position: absolute;border-left: 1px solid gray;box-sizing: border-box;top: 0;bottom: 0;left: 50%;z-index: 0;}#sk-container-id-1 div.sk-serial {display: flex;flex-direction: column;align-items: center;background-color: white;padding-right: 0.2em;padding-left: 0.2em;position: relative;}#sk-container-id-1 div.sk-item {position: relative;z-index: 1;}#sk-container-id-1 div.sk-parallel {display: flex;align-items: stretch;justify-content: center;background-color: white;position: relative;}#sk-container-id-1 div.sk-item::before, #sk-container-id-1 div.sk-parallel-item::before {content: \"\";position: absolute;border-left: 1px solid gray;box-sizing: border-box;top: 0;bottom: 0;left: 50%;z-index: -1;}#sk-container-id-1 div.sk-parallel-item {display: flex;flex-direction: column;z-index: 1;position: relative;background-color: white;}#sk-container-id-1 div.sk-parallel-item:first-child::after {align-self: flex-end;width: 50%;}#sk-container-id-1 div.sk-parallel-item:last-child::after {align-self: flex-start;width: 50%;}#sk-container-id-1 div.sk-parallel-item:only-child::after {width: 0;}#sk-container-id-1 div.sk-dashed-wrapped {border: 1px dashed gray;margin: 0 0.4em 0.5em 0.4em;box-sizing: border-box;padding-bottom: 0.4em;background-color: white;}#sk-container-id-1 div.sk-label label {font-family: monospace;font-weight: bold;display: inline-block;line-height: 1.2em;}#sk-container-id-1 div.sk-label-container {text-align: center;}#sk-container-id-1 div.sk-container {/* jupyter's `normalize.less` sets `[hidden] { display: none; }` but bootstrap.min.css set `[hidden] { display: none !important; }` so we also need the `!important` here to be able to override the default hidden behavior on the sphinx rendered scikit-learn.org. See: https://github.com/scikit-learn/scikit-learn/issues/21755 */display: inline-block !important;position: relative;}#sk-container-id-1 div.sk-text-repr-fallback {display: none;}</style><div id=\"sk-container-id-1\" class=\"sk-top-container\"><div class=\"sk-text-repr-fallback\"><pre>RandomizedSearchCV(cv=5, estimator=RandomForestClassifier(),\n",
              "                   param_distributions={&#x27;bootstrap&#x27;: [True, False],\n",
              "                                        &#x27;max_depth&#x27;: [2, 5, 7],\n",
              "                                        &#x27;max_features&#x27;: [1, 2, 4, 8, 20],\n",
              "                                        &#x27;min_samples_leaf&#x27;: [2, 4, 8],\n",
              "                                        &#x27;min_samples_split&#x27;: [2, 4, 8],\n",
              "                                        &#x27;n_estimators&#x27;: [10, 50, 100, 200, 500,\n",
              "                                                         1000]},\n",
              "                   scoring=&#x27;accuracy&#x27;)</pre><b>In a Jupyter environment, please rerun this cell to show the HTML representation or trust the notebook. <br />On GitHub, the HTML representation is unable to render, please try loading this page with nbviewer.org.</b></div><div class=\"sk-container\" hidden><div class=\"sk-item sk-dashed-wrapped\"><div class=\"sk-label-container\"><div class=\"sk-label sk-toggleable\"><input class=\"sk-toggleable__control sk-hidden--visually\" id=\"sk-estimator-id-1\" type=\"checkbox\" ><label for=\"sk-estimator-id-1\" class=\"sk-toggleable__label sk-toggleable__label-arrow\">RandomizedSearchCV</label><div class=\"sk-toggleable__content\"><pre>RandomizedSearchCV(cv=5, estimator=RandomForestClassifier(),\n",
              "                   param_distributions={&#x27;bootstrap&#x27;: [True, False],\n",
              "                                        &#x27;max_depth&#x27;: [2, 5, 7],\n",
              "                                        &#x27;max_features&#x27;: [1, 2, 4, 8, 20],\n",
              "                                        &#x27;min_samples_leaf&#x27;: [2, 4, 8],\n",
              "                                        &#x27;min_samples_split&#x27;: [2, 4, 8],\n",
              "                                        &#x27;n_estimators&#x27;: [10, 50, 100, 200, 500,\n",
              "                                                         1000]},\n",
              "                   scoring=&#x27;accuracy&#x27;)</pre></div></div></div><div class=\"sk-parallel\"><div class=\"sk-parallel-item\"><div class=\"sk-item\"><div class=\"sk-label-container\"><div class=\"sk-label sk-toggleable\"><input class=\"sk-toggleable__control sk-hidden--visually\" id=\"sk-estimator-id-2\" type=\"checkbox\" ><label for=\"sk-estimator-id-2\" class=\"sk-toggleable__label sk-toggleable__label-arrow\">estimator: RandomForestClassifier</label><div class=\"sk-toggleable__content\"><pre>RandomForestClassifier()</pre></div></div></div><div class=\"sk-serial\"><div class=\"sk-item\"><div class=\"sk-estimator sk-toggleable\"><input class=\"sk-toggleable__control sk-hidden--visually\" id=\"sk-estimator-id-3\" type=\"checkbox\" ><label for=\"sk-estimator-id-3\" class=\"sk-toggleable__label sk-toggleable__label-arrow\">RandomForestClassifier</label><div class=\"sk-toggleable__content\"><pre>RandomForestClassifier()</pre></div></div></div></div></div></div></div></div></div></div>"
            ]
          },
          "metadata": {},
          "execution_count": 164
        }
      ]
    },
    {
      "cell_type": "code",
      "source": [
        "#@title\n",
        "# See the results\n",
        "print(\"Best parameters found:\")\n",
        "print(random_search.best_params_)\n",
        "print(\"Best precision:\")\n",
        "print(random_search.best_score_)"
      ],
      "metadata": {
        "colab": {
          "base_uri": "https://localhost:8080/"
        },
        "id": "0F6PaqKAA30w",
        "outputId": "7cac4956-45b5-4314-b302-ce7455885650",
        "cellView": "form"
      },
      "execution_count": null,
      "outputs": [
        {
          "output_type": "stream",
          "name": "stdout",
          "text": [
            "Best parameters found:\n",
            "{'n_estimators': 500, 'min_samples_split': 8, 'min_samples_leaf': 4, 'max_features': 4, 'max_depth': 7, 'bootstrap': False}\n",
            "Best precision:\n",
            "0.777308429118774\n"
          ]
        }
      ]
    },
    {
      "cell_type": "code",
      "source": [
        "#@title\n",
        "model_dose = random_search.best_estimator_"
      ],
      "metadata": {
        "id": "Z1Dn48hQDP8M",
        "cellView": "form"
      },
      "execution_count": null,
      "outputs": []
    },
    {
      "cell_type": "code",
      "source": [
        "#@title\n",
        "print(classification_report(Y,model_dose.predict(X)))"
      ],
      "metadata": {
        "colab": {
          "base_uri": "https://localhost:8080/"
        },
        "id": "jVPh19tZDUx3",
        "outputId": "8af2cf41-24e8-4100-bf74-b908378b96fc",
        "cellView": "form"
      },
      "execution_count": null,
      "outputs": [
        {
          "output_type": "stream",
          "name": "stdout",
          "text": [
            "              precision    recall  f1-score   support\n",
            "\n",
            "         0.0       1.00      0.99      1.00       145\n",
            "        10.0       0.87      0.99      0.93       213\n",
            "        15.0       0.98      0.86      0.92       164\n",
            "        20.0       0.98      0.95      0.97       201\n",
            "\n",
            "    accuracy                           0.95       723\n",
            "   macro avg       0.96      0.95      0.95       723\n",
            "weighted avg       0.95      0.95      0.95       723\n",
            "\n"
          ]
        }
      ]
    },
    {
      "cell_type": "markdown",
      "source": [
        "**2. Model for irradiation stage calculation**"
      ],
      "metadata": {
        "id": "9HoDvXFADsKm"
      }
    },
    {
      "cell_type": "code",
      "source": [
        "# Define the parameter to optimize\n",
        "param_dist = {\"n_estimators\": [10,50,100,200,500,1000],\n",
        "              \"max_depth\": [2,5,7],\n",
        "              \"max_features\": [1,2,4,8,20],\n",
        "              \"min_samples_split\": [2,4,8],\n",
        "              \"min_samples_leaf\": [2,4,8],\n",
        "              \"bootstrap\": [True, False]}"
      ],
      "metadata": {
        "id": "VSz1vt0VDsKn"
      },
      "execution_count": null,
      "outputs": []
    },
    {
      "cell_type": "code",
      "source": [
        "#@title\n",
        "# Create a model\n",
        "rf = RandomForestClassifier()"
      ],
      "metadata": {
        "id": "M-8Gbak3DsKn",
        "cellView": "form"
      },
      "execution_count": null,
      "outputs": []
    },
    {
      "cell_type": "code",
      "source": [
        "#@title\n",
        "from sklearn.model_selection import RandomizedSearchCV"
      ],
      "metadata": {
        "id": "V9CToFDQDsKn",
        "cellView": "form"
      },
      "execution_count": null,
      "outputs": []
    },
    {
      "cell_type": "code",
      "source": [
        "#@title\n",
        "# Make the optimization\n",
        "random_search = RandomizedSearchCV(rf, param_distributions=param_dist,\n",
        "                                   n_iter=10, cv=5, scoring='accuracy')"
      ],
      "metadata": {
        "id": "YMJUxXTKDsKn",
        "cellView": "form"
      },
      "execution_count": null,
      "outputs": []
    },
    {
      "cell_type": "code",
      "source": [
        "#@title\n",
        "Y = df_final.loc[:, 'Irradiation Stage']"
      ],
      "metadata": {
        "id": "uiNk8pg7DsKn",
        "cellView": "form"
      },
      "execution_count": null,
      "outputs": []
    },
    {
      "cell_type": "code",
      "source": [
        "#@title\n",
        "random_search.fit(X, Y)"
      ],
      "metadata": {
        "colab": {
          "base_uri": "https://localhost:8080/",
          "height": 117
        },
        "id": "ytbafoY5DsKn",
        "outputId": "64f498ec-ceea-480f-cf2b-9718ec6a1e2f",
        "cellView": "form"
      },
      "execution_count": null,
      "outputs": [
        {
          "output_type": "execute_result",
          "data": {
            "text/plain": [
              "RandomizedSearchCV(cv=5, estimator=RandomForestClassifier(),\n",
              "                   param_distributions={'bootstrap': [True, False],\n",
              "                                        'max_depth': [2, 5, 7],\n",
              "                                        'max_features': [1, 2, 4, 8, 20],\n",
              "                                        'min_samples_leaf': [2, 4, 8],\n",
              "                                        'min_samples_split': [2, 4, 8],\n",
              "                                        'n_estimators': [10, 50, 100, 200, 500,\n",
              "                                                         1000]},\n",
              "                   scoring='accuracy')"
            ],
            "text/html": [
              "<style>#sk-container-id-2 {color: black;background-color: white;}#sk-container-id-2 pre{padding: 0;}#sk-container-id-2 div.sk-toggleable {background-color: white;}#sk-container-id-2 label.sk-toggleable__label {cursor: pointer;display: block;width: 100%;margin-bottom: 0;padding: 0.3em;box-sizing: border-box;text-align: center;}#sk-container-id-2 label.sk-toggleable__label-arrow:before {content: \"▸\";float: left;margin-right: 0.25em;color: #696969;}#sk-container-id-2 label.sk-toggleable__label-arrow:hover:before {color: black;}#sk-container-id-2 div.sk-estimator:hover label.sk-toggleable__label-arrow:before {color: black;}#sk-container-id-2 div.sk-toggleable__content {max-height: 0;max-width: 0;overflow: hidden;text-align: left;background-color: #f0f8ff;}#sk-container-id-2 div.sk-toggleable__content pre {margin: 0.2em;color: black;border-radius: 0.25em;background-color: #f0f8ff;}#sk-container-id-2 input.sk-toggleable__control:checked~div.sk-toggleable__content {max-height: 200px;max-width: 100%;overflow: auto;}#sk-container-id-2 input.sk-toggleable__control:checked~label.sk-toggleable__label-arrow:before {content: \"▾\";}#sk-container-id-2 div.sk-estimator input.sk-toggleable__control:checked~label.sk-toggleable__label {background-color: #d4ebff;}#sk-container-id-2 div.sk-label input.sk-toggleable__control:checked~label.sk-toggleable__label {background-color: #d4ebff;}#sk-container-id-2 input.sk-hidden--visually {border: 0;clip: rect(1px 1px 1px 1px);clip: rect(1px, 1px, 1px, 1px);height: 1px;margin: -1px;overflow: hidden;padding: 0;position: absolute;width: 1px;}#sk-container-id-2 div.sk-estimator {font-family: monospace;background-color: #f0f8ff;border: 1px dotted black;border-radius: 0.25em;box-sizing: border-box;margin-bottom: 0.5em;}#sk-container-id-2 div.sk-estimator:hover {background-color: #d4ebff;}#sk-container-id-2 div.sk-parallel-item::after {content: \"\";width: 100%;border-bottom: 1px solid gray;flex-grow: 1;}#sk-container-id-2 div.sk-label:hover label.sk-toggleable__label {background-color: #d4ebff;}#sk-container-id-2 div.sk-serial::before {content: \"\";position: absolute;border-left: 1px solid gray;box-sizing: border-box;top: 0;bottom: 0;left: 50%;z-index: 0;}#sk-container-id-2 div.sk-serial {display: flex;flex-direction: column;align-items: center;background-color: white;padding-right: 0.2em;padding-left: 0.2em;position: relative;}#sk-container-id-2 div.sk-item {position: relative;z-index: 1;}#sk-container-id-2 div.sk-parallel {display: flex;align-items: stretch;justify-content: center;background-color: white;position: relative;}#sk-container-id-2 div.sk-item::before, #sk-container-id-2 div.sk-parallel-item::before {content: \"\";position: absolute;border-left: 1px solid gray;box-sizing: border-box;top: 0;bottom: 0;left: 50%;z-index: -1;}#sk-container-id-2 div.sk-parallel-item {display: flex;flex-direction: column;z-index: 1;position: relative;background-color: white;}#sk-container-id-2 div.sk-parallel-item:first-child::after {align-self: flex-end;width: 50%;}#sk-container-id-2 div.sk-parallel-item:last-child::after {align-self: flex-start;width: 50%;}#sk-container-id-2 div.sk-parallel-item:only-child::after {width: 0;}#sk-container-id-2 div.sk-dashed-wrapped {border: 1px dashed gray;margin: 0 0.4em 0.5em 0.4em;box-sizing: border-box;padding-bottom: 0.4em;background-color: white;}#sk-container-id-2 div.sk-label label {font-family: monospace;font-weight: bold;display: inline-block;line-height: 1.2em;}#sk-container-id-2 div.sk-label-container {text-align: center;}#sk-container-id-2 div.sk-container {/* jupyter's `normalize.less` sets `[hidden] { display: none; }` but bootstrap.min.css set `[hidden] { display: none !important; }` so we also need the `!important` here to be able to override the default hidden behavior on the sphinx rendered scikit-learn.org. See: https://github.com/scikit-learn/scikit-learn/issues/21755 */display: inline-block !important;position: relative;}#sk-container-id-2 div.sk-text-repr-fallback {display: none;}</style><div id=\"sk-container-id-2\" class=\"sk-top-container\"><div class=\"sk-text-repr-fallback\"><pre>RandomizedSearchCV(cv=5, estimator=RandomForestClassifier(),\n",
              "                   param_distributions={&#x27;bootstrap&#x27;: [True, False],\n",
              "                                        &#x27;max_depth&#x27;: [2, 5, 7],\n",
              "                                        &#x27;max_features&#x27;: [1, 2, 4, 8, 20],\n",
              "                                        &#x27;min_samples_leaf&#x27;: [2, 4, 8],\n",
              "                                        &#x27;min_samples_split&#x27;: [2, 4, 8],\n",
              "                                        &#x27;n_estimators&#x27;: [10, 50, 100, 200, 500,\n",
              "                                                         1000]},\n",
              "                   scoring=&#x27;accuracy&#x27;)</pre><b>In a Jupyter environment, please rerun this cell to show the HTML representation or trust the notebook. <br />On GitHub, the HTML representation is unable to render, please try loading this page with nbviewer.org.</b></div><div class=\"sk-container\" hidden><div class=\"sk-item sk-dashed-wrapped\"><div class=\"sk-label-container\"><div class=\"sk-label sk-toggleable\"><input class=\"sk-toggleable__control sk-hidden--visually\" id=\"sk-estimator-id-4\" type=\"checkbox\" ><label for=\"sk-estimator-id-4\" class=\"sk-toggleable__label sk-toggleable__label-arrow\">RandomizedSearchCV</label><div class=\"sk-toggleable__content\"><pre>RandomizedSearchCV(cv=5, estimator=RandomForestClassifier(),\n",
              "                   param_distributions={&#x27;bootstrap&#x27;: [True, False],\n",
              "                                        &#x27;max_depth&#x27;: [2, 5, 7],\n",
              "                                        &#x27;max_features&#x27;: [1, 2, 4, 8, 20],\n",
              "                                        &#x27;min_samples_leaf&#x27;: [2, 4, 8],\n",
              "                                        &#x27;min_samples_split&#x27;: [2, 4, 8],\n",
              "                                        &#x27;n_estimators&#x27;: [10, 50, 100, 200, 500,\n",
              "                                                         1000]},\n",
              "                   scoring=&#x27;accuracy&#x27;)</pre></div></div></div><div class=\"sk-parallel\"><div class=\"sk-parallel-item\"><div class=\"sk-item\"><div class=\"sk-label-container\"><div class=\"sk-label sk-toggleable\"><input class=\"sk-toggleable__control sk-hidden--visually\" id=\"sk-estimator-id-5\" type=\"checkbox\" ><label for=\"sk-estimator-id-5\" class=\"sk-toggleable__label sk-toggleable__label-arrow\">estimator: RandomForestClassifier</label><div class=\"sk-toggleable__content\"><pre>RandomForestClassifier()</pre></div></div></div><div class=\"sk-serial\"><div class=\"sk-item\"><div class=\"sk-estimator sk-toggleable\"><input class=\"sk-toggleable__control sk-hidden--visually\" id=\"sk-estimator-id-6\" type=\"checkbox\" ><label for=\"sk-estimator-id-6\" class=\"sk-toggleable__label sk-toggleable__label-arrow\">RandomForestClassifier</label><div class=\"sk-toggleable__content\"><pre>RandomForestClassifier()</pre></div></div></div></div></div></div></div></div></div></div>"
            ]
          },
          "metadata": {},
          "execution_count": 173
        }
      ]
    },
    {
      "cell_type": "code",
      "source": [
        "#@title\n",
        "# See the results\n",
        "print(\"Best parameters found:\")\n",
        "print(random_search.best_params_)\n",
        "print(\"Best precision:\")\n",
        "print(random_search.best_score_)"
      ],
      "metadata": {
        "colab": {
          "base_uri": "https://localhost:8080/"
        },
        "id": "j4bowIk0DsKn",
        "outputId": "49220ba0-2aaa-443c-8b1f-94e73e1ed5e1",
        "cellView": "form"
      },
      "execution_count": null,
      "outputs": [
        {
          "output_type": "stream",
          "name": "stdout",
          "text": [
            "Best parameters found:\n",
            "{'n_estimators': 200, 'min_samples_split': 4, 'min_samples_leaf': 2, 'max_features': 8, 'max_depth': 7, 'bootstrap': True}\n",
            "Best precision:\n",
            "0.9502490421455938\n"
          ]
        }
      ]
    },
    {
      "cell_type": "code",
      "source": [
        "#@title\n",
        "model_is = random_search.best_estimator_"
      ],
      "metadata": {
        "id": "BuMKtEuzDsKo",
        "cellView": "form"
      },
      "execution_count": null,
      "outputs": []
    },
    {
      "cell_type": "code",
      "source": [
        "#@title\n",
        "print(classification_report(Y,model_is.predict(X)))"
      ],
      "metadata": {
        "colab": {
          "base_uri": "https://localhost:8080/"
        },
        "id": "kWsMcuKnDsKo",
        "outputId": "8716eeb8-e754-4b4c-b499-11507dc09279",
        "cellView": "form"
      },
      "execution_count": null,
      "outputs": [
        {
          "output_type": "stream",
          "name": "stdout",
          "text": [
            "                precision    recall  f1-score   support\n",
            "\n",
            "Not irradiated       1.00      1.00      1.00       145\n",
            "           Oil       1.00      1.00      1.00       253\n",
            "        Sample       1.00      1.00      1.00       325\n",
            "\n",
            "      accuracy                           1.00       723\n",
            "     macro avg       1.00      1.00      1.00       723\n",
            "  weighted avg       1.00      1.00      1.00       723\n",
            "\n"
          ]
        }
      ]
    },
    {
      "cell_type": "markdown",
      "source": [
        "**3. Model for only irradiation calculation**"
      ],
      "metadata": {
        "id": "FPfvqoGMENth"
      }
    },
    {
      "cell_type": "code",
      "source": [
        "# Define the parameter to optimize\n",
        "param_dist = {\"n_estimators\": [10,50,100,200,500,1000],\n",
        "              \"max_depth\": [2,5,7],\n",
        "              \"max_features\": [1,2,4,8,20],\n",
        "              \"min_samples_split\": [2,4,8],\n",
        "              \"min_samples_leaf\": [2,4,8],\n",
        "              \"bootstrap\": [True, False]}"
      ],
      "metadata": {
        "id": "Emu_JxztENti"
      },
      "execution_count": null,
      "outputs": []
    },
    {
      "cell_type": "code",
      "source": [
        "#@title\n",
        "# Create a model\n",
        "rf = RandomForestClassifier()"
      ],
      "metadata": {
        "id": "m0HUJiL4ENtj",
        "cellView": "form"
      },
      "execution_count": null,
      "outputs": []
    },
    {
      "cell_type": "code",
      "source": [
        "#@title\n",
        "from sklearn.model_selection import RandomizedSearchCV"
      ],
      "metadata": {
        "id": "FVjEhCnwENtk",
        "cellView": "form"
      },
      "execution_count": null,
      "outputs": []
    },
    {
      "cell_type": "code",
      "source": [
        "#@title\n",
        "# Make the optimization\n",
        "random_search = RandomizedSearchCV(rf, param_distributions=param_dist,\n",
        "                                   n_iter=10, cv=5, scoring='accuracy')"
      ],
      "metadata": {
        "id": "zZ4AscrgENtk",
        "cellView": "form"
      },
      "execution_count": null,
      "outputs": []
    },
    {
      "cell_type": "code",
      "source": [
        "#@title\n",
        "Y = df_final.loc[:, 'Irradiation']"
      ],
      "metadata": {
        "id": "SuWKmkAwENtl",
        "cellView": "form"
      },
      "execution_count": null,
      "outputs": []
    },
    {
      "cell_type": "code",
      "source": [
        "#@title\n",
        "random_search.fit(X, Y)"
      ],
      "metadata": {
        "colab": {
          "base_uri": "https://localhost:8080/",
          "height": 117
        },
        "outputId": "ede5e8d3-bf3f-45d1-d38d-dd979e247766",
        "id": "2eOMcTheENtm",
        "cellView": "form"
      },
      "execution_count": null,
      "outputs": [
        {
          "output_type": "execute_result",
          "data": {
            "text/plain": [
              "RandomizedSearchCV(cv=5, estimator=RandomForestClassifier(),\n",
              "                   param_distributions={'bootstrap': [True, False],\n",
              "                                        'max_depth': [2, 5, 7],\n",
              "                                        'max_features': [1, 2, 4, 8, 20],\n",
              "                                        'min_samples_leaf': [2, 4, 8],\n",
              "                                        'min_samples_split': [2, 4, 8],\n",
              "                                        'n_estimators': [10, 50, 100, 200, 500,\n",
              "                                                         1000]},\n",
              "                   scoring='accuracy')"
            ],
            "text/html": [
              "<style>#sk-container-id-3 {color: black;background-color: white;}#sk-container-id-3 pre{padding: 0;}#sk-container-id-3 div.sk-toggleable {background-color: white;}#sk-container-id-3 label.sk-toggleable__label {cursor: pointer;display: block;width: 100%;margin-bottom: 0;padding: 0.3em;box-sizing: border-box;text-align: center;}#sk-container-id-3 label.sk-toggleable__label-arrow:before {content: \"▸\";float: left;margin-right: 0.25em;color: #696969;}#sk-container-id-3 label.sk-toggleable__label-arrow:hover:before {color: black;}#sk-container-id-3 div.sk-estimator:hover label.sk-toggleable__label-arrow:before {color: black;}#sk-container-id-3 div.sk-toggleable__content {max-height: 0;max-width: 0;overflow: hidden;text-align: left;background-color: #f0f8ff;}#sk-container-id-3 div.sk-toggleable__content pre {margin: 0.2em;color: black;border-radius: 0.25em;background-color: #f0f8ff;}#sk-container-id-3 input.sk-toggleable__control:checked~div.sk-toggleable__content {max-height: 200px;max-width: 100%;overflow: auto;}#sk-container-id-3 input.sk-toggleable__control:checked~label.sk-toggleable__label-arrow:before {content: \"▾\";}#sk-container-id-3 div.sk-estimator input.sk-toggleable__control:checked~label.sk-toggleable__label {background-color: #d4ebff;}#sk-container-id-3 div.sk-label input.sk-toggleable__control:checked~label.sk-toggleable__label {background-color: #d4ebff;}#sk-container-id-3 input.sk-hidden--visually {border: 0;clip: rect(1px 1px 1px 1px);clip: rect(1px, 1px, 1px, 1px);height: 1px;margin: -1px;overflow: hidden;padding: 0;position: absolute;width: 1px;}#sk-container-id-3 div.sk-estimator {font-family: monospace;background-color: #f0f8ff;border: 1px dotted black;border-radius: 0.25em;box-sizing: border-box;margin-bottom: 0.5em;}#sk-container-id-3 div.sk-estimator:hover {background-color: #d4ebff;}#sk-container-id-3 div.sk-parallel-item::after {content: \"\";width: 100%;border-bottom: 1px solid gray;flex-grow: 1;}#sk-container-id-3 div.sk-label:hover label.sk-toggleable__label {background-color: #d4ebff;}#sk-container-id-3 div.sk-serial::before {content: \"\";position: absolute;border-left: 1px solid gray;box-sizing: border-box;top: 0;bottom: 0;left: 50%;z-index: 0;}#sk-container-id-3 div.sk-serial {display: flex;flex-direction: column;align-items: center;background-color: white;padding-right: 0.2em;padding-left: 0.2em;position: relative;}#sk-container-id-3 div.sk-item {position: relative;z-index: 1;}#sk-container-id-3 div.sk-parallel {display: flex;align-items: stretch;justify-content: center;background-color: white;position: relative;}#sk-container-id-3 div.sk-item::before, #sk-container-id-3 div.sk-parallel-item::before {content: \"\";position: absolute;border-left: 1px solid gray;box-sizing: border-box;top: 0;bottom: 0;left: 50%;z-index: -1;}#sk-container-id-3 div.sk-parallel-item {display: flex;flex-direction: column;z-index: 1;position: relative;background-color: white;}#sk-container-id-3 div.sk-parallel-item:first-child::after {align-self: flex-end;width: 50%;}#sk-container-id-3 div.sk-parallel-item:last-child::after {align-self: flex-start;width: 50%;}#sk-container-id-3 div.sk-parallel-item:only-child::after {width: 0;}#sk-container-id-3 div.sk-dashed-wrapped {border: 1px dashed gray;margin: 0 0.4em 0.5em 0.4em;box-sizing: border-box;padding-bottom: 0.4em;background-color: white;}#sk-container-id-3 div.sk-label label {font-family: monospace;font-weight: bold;display: inline-block;line-height: 1.2em;}#sk-container-id-3 div.sk-label-container {text-align: center;}#sk-container-id-3 div.sk-container {/* jupyter's `normalize.less` sets `[hidden] { display: none; }` but bootstrap.min.css set `[hidden] { display: none !important; }` so we also need the `!important` here to be able to override the default hidden behavior on the sphinx rendered scikit-learn.org. See: https://github.com/scikit-learn/scikit-learn/issues/21755 */display: inline-block !important;position: relative;}#sk-container-id-3 div.sk-text-repr-fallback {display: none;}</style><div id=\"sk-container-id-3\" class=\"sk-top-container\"><div class=\"sk-text-repr-fallback\"><pre>RandomizedSearchCV(cv=5, estimator=RandomForestClassifier(),\n",
              "                   param_distributions={&#x27;bootstrap&#x27;: [True, False],\n",
              "                                        &#x27;max_depth&#x27;: [2, 5, 7],\n",
              "                                        &#x27;max_features&#x27;: [1, 2, 4, 8, 20],\n",
              "                                        &#x27;min_samples_leaf&#x27;: [2, 4, 8],\n",
              "                                        &#x27;min_samples_split&#x27;: [2, 4, 8],\n",
              "                                        &#x27;n_estimators&#x27;: [10, 50, 100, 200, 500,\n",
              "                                                         1000]},\n",
              "                   scoring=&#x27;accuracy&#x27;)</pre><b>In a Jupyter environment, please rerun this cell to show the HTML representation or trust the notebook. <br />On GitHub, the HTML representation is unable to render, please try loading this page with nbviewer.org.</b></div><div class=\"sk-container\" hidden><div class=\"sk-item sk-dashed-wrapped\"><div class=\"sk-label-container\"><div class=\"sk-label sk-toggleable\"><input class=\"sk-toggleable__control sk-hidden--visually\" id=\"sk-estimator-id-7\" type=\"checkbox\" ><label for=\"sk-estimator-id-7\" class=\"sk-toggleable__label sk-toggleable__label-arrow\">RandomizedSearchCV</label><div class=\"sk-toggleable__content\"><pre>RandomizedSearchCV(cv=5, estimator=RandomForestClassifier(),\n",
              "                   param_distributions={&#x27;bootstrap&#x27;: [True, False],\n",
              "                                        &#x27;max_depth&#x27;: [2, 5, 7],\n",
              "                                        &#x27;max_features&#x27;: [1, 2, 4, 8, 20],\n",
              "                                        &#x27;min_samples_leaf&#x27;: [2, 4, 8],\n",
              "                                        &#x27;min_samples_split&#x27;: [2, 4, 8],\n",
              "                                        &#x27;n_estimators&#x27;: [10, 50, 100, 200, 500,\n",
              "                                                         1000]},\n",
              "                   scoring=&#x27;accuracy&#x27;)</pre></div></div></div><div class=\"sk-parallel\"><div class=\"sk-parallel-item\"><div class=\"sk-item\"><div class=\"sk-label-container\"><div class=\"sk-label sk-toggleable\"><input class=\"sk-toggleable__control sk-hidden--visually\" id=\"sk-estimator-id-8\" type=\"checkbox\" ><label for=\"sk-estimator-id-8\" class=\"sk-toggleable__label sk-toggleable__label-arrow\">estimator: RandomForestClassifier</label><div class=\"sk-toggleable__content\"><pre>RandomForestClassifier()</pre></div></div></div><div class=\"sk-serial\"><div class=\"sk-item\"><div class=\"sk-estimator sk-toggleable\"><input class=\"sk-toggleable__control sk-hidden--visually\" id=\"sk-estimator-id-9\" type=\"checkbox\" ><label for=\"sk-estimator-id-9\" class=\"sk-toggleable__label sk-toggleable__label-arrow\">RandomForestClassifier</label><div class=\"sk-toggleable__content\"><pre>RandomForestClassifier()</pre></div></div></div></div></div></div></div></div></div></div>"
            ]
          },
          "metadata": {},
          "execution_count": 182
        }
      ]
    },
    {
      "cell_type": "code",
      "source": [
        "#@title\n",
        "# See the results\n",
        "print(\"Best parameters found:\")\n",
        "print(random_search.best_params_)\n",
        "print(\"Best precision:\")\n",
        "print(random_search.best_score_)"
      ],
      "metadata": {
        "colab": {
          "base_uri": "https://localhost:8080/"
        },
        "outputId": "1e643158-a0db-4cff-b521-f928e12230a2",
        "id": "5_RxUfwLENtn",
        "cellView": "form"
      },
      "execution_count": null,
      "outputs": [
        {
          "output_type": "stream",
          "name": "stdout",
          "text": [
            "Best parameters found:\n",
            "{'n_estimators': 50, 'min_samples_split': 4, 'min_samples_leaf': 2, 'max_features': 20, 'max_depth': 5, 'bootstrap': False}\n",
            "Best precision:\n",
            "0.9626724137931035\n"
          ]
        }
      ]
    },
    {
      "cell_type": "code",
      "source": [
        "#@title\n",
        "model_i = random_search.best_estimator_"
      ],
      "metadata": {
        "id": "WeDZHJc8ENto",
        "cellView": "form"
      },
      "execution_count": null,
      "outputs": []
    },
    {
      "cell_type": "code",
      "source": [
        "#@title\n",
        "print(classification_report(Y,model_i.predict(X)))"
      ],
      "metadata": {
        "colab": {
          "base_uri": "https://localhost:8080/"
        },
        "outputId": "bf7068d7-de0c-4b48-b36c-beca22a989bc",
        "id": "BexCZxyFENto",
        "cellView": "form"
      },
      "execution_count": null,
      "outputs": [
        {
          "output_type": "stream",
          "name": "stdout",
          "text": [
            "              precision    recall  f1-score   support\n",
            "\n",
            "           0       1.00      0.98      0.99       145\n",
            "           1       0.99      1.00      1.00       578\n",
            "\n",
            "    accuracy                           1.00       723\n",
            "   macro avg       1.00      0.99      0.99       723\n",
            "weighted avg       1.00      1.00      1.00       723\n",
            "\n"
          ]
        }
      ]
    },
    {
      "cell_type": "markdown",
      "source": [
        "## Save models"
      ],
      "metadata": {
        "id": "1GnvocuHsMEG"
      }
    },
    {
      "cell_type": "code",
      "source": [
        "import pickle"
      ],
      "metadata": {
        "id": "w18TzxtzO2QL"
      },
      "execution_count": null,
      "outputs": []
    },
    {
      "cell_type": "code",
      "source": [
        "# Export models\n",
        "with open('model_dose.pkl', 'wb') as file:\n",
        "    pickle.dump(model_dose, file)\n",
        "with open('model_is.pkl', 'wb') as file:\n",
        "    pickle.dump(model_is, file)\n",
        "with open('model_i.pkl', 'wb') as file:\n",
        "    pickle.dump(model_i, file)"
      ],
      "metadata": {
        "id": "0UlUOjqLDouJ"
      },
      "execution_count": null,
      "outputs": []
    },
    {
      "cell_type": "code",
      "source": [
        "# Export Standar Scaler y el PCA\n",
        "with open('scaler.pkl', 'wb') as f:\n",
        "    pickle.dump(scaler, f)"
      ],
      "metadata": {
        "id": "0M9YUKMHObfK"
      },
      "execution_count": null,
      "outputs": []
    }
  ]
}